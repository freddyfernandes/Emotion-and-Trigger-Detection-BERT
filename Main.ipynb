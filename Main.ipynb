{
  "cells": [
    {
      "cell_type": "markdown",
      "metadata": {
        "id": "XZeIDG12X9mi"
      },
      "source": [
        "# Final Projects"
      ]
    },
    {
      "cell_type": "markdown",
      "metadata": {
        "id": "-SNvkdAlYGb3"
      },
      "source": [
        "### **Team members:**\n",
        "#### Mirco Lescart\n",
        "#### Freddy Fernandes\n",
        "#### Parsa Mastouri Kashani\n",
        "#### Arina Sadeghi Khiabanian"
      ]
    },
    {
      "cell_type": "markdown",
      "metadata": {
        "collapsed": false,
        "id": "IWf2TLljNi3a"
      },
      "source": [
        "# Libraries"
      ]
    },
    {
      "cell_type": "markdown",
      "metadata": {
        "id": "eWlcnQDyYKXv"
      },
      "source": [
        "In the first step of the project,we installed some libraries."
      ]
    },
    {
      "cell_type": "code",
      "execution_count": 2,
      "metadata": {
        "colab": {
          "base_uri": "https://localhost:8080/"
        },
        "id": "uUoWJYd7QecM",
        "outputId": "d171e33c-08c6-4d9c-e7da-8b7d477a6d26"
      },
      "outputs": [
        {
          "output_type": "stream",
          "name": "stdout",
          "text": [
            "Collecting mlcm\n",
            "  Downloading mlcm-0.0.1-py3-none-any.whl (8.7 kB)\n",
            "Requirement already satisfied: numpy in /usr/local/lib/python3.10/dist-packages (from mlcm) (1.25.2)\n",
            "Installing collected packages: mlcm\n",
            "Successfully installed mlcm-0.0.1\n"
          ]
        }
      ],
      "source": [
        "# Installing the transformers library and additional libraries if looking process\n",
        "!pip install -q transformers\n",
        "!pip install mlcm"
      ]
    },
    {
      "cell_type": "code",
      "execution_count": 3,
      "metadata": {
        "id": "R1V3mLRhJu53"
      },
      "outputs": [],
      "source": [
        "# Importing stock ml libraries\n",
        "import numpy as np\n",
        "import pandas as pd\n",
        "import matplotlib.pyplot as plt\n",
        "from sklearn import metrics\n",
        "import transformers\n",
        "import torch\n",
        "from torch.utils.data import Dataset, DataLoader, RandomSampler, SequentialSampler\n",
        "from torch.optim import lr_scheduler\n",
        "from transformers import AutoModel, AutoTokenizer, get_linear_schedule_with_warmup\n",
        "from sklearn.metrics import classification_report, accuracy_score, f1_score\n",
        "from sklearn.utils.class_weight import compute_class_weight\n",
        "from tqdm import tqdm"
      ]
    },
    {
      "cell_type": "markdown",
      "metadata": {
        "collapsed": false,
        "id": "19nlBR-xNi3c"
      },
      "source": [
        "# Settings"
      ]
    },
    {
      "cell_type": "markdown",
      "metadata": {
        "id": "9LVvWVt43Oq2"
      },
      "source": [
        "As mentioned in the project FAQ, we also implemented 5 different random seeds for our project.we tried seed number 42, 123, 456, 789, 1000."
      ]
    },
    {
      "cell_type": "code",
      "execution_count": 4,
      "metadata": {
        "id": "-yeexOotJyDK"
      },
      "outputs": [],
      "source": [
        "# Random seed to repeat experiments.\n",
        "RANDOM_SEED = 42\n",
        "transformers.set_seed(RANDOM_SEED)\n",
        "torch.manual_seed(RANDOM_SEED)\n",
        "np.random.seed(RANDOM_SEED)"
      ]
    },
    {
      "cell_type": "markdown",
      "metadata": {
        "id": "IOh0yVBv3Wcr"
      },
      "source": [
        "In this step,we defined the pre-trained model, maximum sequence lengths, batch sizes, epochs, learning rate, and tokenizer instantiation for tokenizing input data to establish the groundwork for efficient training and processing of textual inputs with the BERT-based model."
      ]
    },
    {
      "cell_type": "code",
      "execution_count": 47,
      "metadata": {
        "id": "4xslvFoQJ0CP"
      },
      "outputs": [],
      "source": [
        "#card_name = 'bert-base-uncased'\n",
        "card_name = 'prajjwal1/bert-tiny'\n",
        "MAX_LEN_EMO = 300\n",
        "MAX_LEN_TRI = 512\n",
        "BATCH_SIZE = 1\n",
        "EMO_EPOCHS = 5\n",
        "TRI_EPOCHS = 1\n",
        "LEARNING_RATE = 2e-05\n",
        "TRAIN_BATCH_SIZE = 1\n",
        "VALID_BATCH_SIZE = 1\n",
        "tokenizer = AutoTokenizer.from_pretrained(card_name)"
      ]
    },
    {
      "cell_type": "code",
      "execution_count": 48,
      "metadata": {
        "colab": {
          "base_uri": "https://localhost:8080/"
        },
        "id": "YmuBSiPFJ0xs",
        "outputId": "68a01f82-e022-4d9f-f541-6f4e2aa45ca0"
      },
      "outputs": [
        {
          "output_type": "stream",
          "name": "stdout",
          "text": [
            "Using cuda.\n"
          ]
        }
      ],
      "source": [
        "# Setting up the device for GPU usage\n",
        "from torch import cuda\n",
        "device = 'cuda' if cuda.is_available() else 'cpu'\n",
        "print(f'Using {device}.')"
      ]
    },
    {
      "cell_type": "markdown",
      "metadata": {
        "collapsed": false,
        "id": "8ZpeOSvzNi3d"
      },
      "source": [
        "# Importing and Preprocessing the data"
      ]
    },
    {
      "cell_type": "markdown",
      "metadata": {
        "id": "H1V9J0xY3Z_d"
      },
      "source": [
        "In this cell of code,we converted our JSON formatted file into a Pandas DataFrame, and then removed the 'episode' column to prepare the data for further processing or analysis."
      ]
    },
    {
      "cell_type": "code",
      "execution_count": 49,
      "metadata": {
        "id": "KQn6NII7J2-t"
      },
      "outputs": [],
      "source": [
        "import pandas as pd\n",
        "import json\n",
        "\n",
        "# Specify the path to your JSON file\n",
        "json_file_path = 'MELD_train_efr.json'  # Replace with your file path\n",
        "\n",
        "# Open the file and load the JSON data\n",
        "with open(json_file_path, 'r') as file:\n",
        "    data = json.load(file)\n",
        "\n",
        "# Convert the JSON data to a Pandas DataFrame\n",
        "df = pd.json_normalize(data)\n",
        "\n",
        "# Now 'df' is a Pandas DataFrame containing the JSON data\n",
        "df.drop('episode', axis=1, inplace=True)"
      ]
    },
    {
      "cell_type": "markdown",
      "metadata": {
        "id": "8TxomE043hLI"
      },
      "source": [
        "As it was mentioned in the project FAQ, there are some NaN in the data set so we should replace them with 0.0 within lists."
      ]
    },
    {
      "cell_type": "code",
      "execution_count": 50,
      "metadata": {
        "colab": {
          "base_uri": "https://localhost:8080/"
        },
        "id": "_kmoZ13BJ-sE",
        "outputId": "7ed3ba6a-a1a1-418a-a3a5-e3726c9668d0"
      },
      "outputs": [
        {
          "output_type": "execute_result",
          "data": {
            "text/plain": [
              "array([0, 1], dtype=object)"
            ]
          },
          "metadata": {},
          "execution_count": 50
        }
      ],
      "source": [
        "# Function to replace NaN with 0.0 in a list\n",
        "def replace_nan_with_zero_list(lst):\n",
        "    return [0.0 if pd.isna(x) else x for x in lst]\n",
        "\n",
        "# Applying the function to the specified column\n",
        "df['triggers'] = df['triggers'].apply(lambda x: replace_nan_with_zero_list(x))\n",
        "\n",
        "# Convert each element in the lists to integers\n",
        "df['triggers'] = df['triggers'].apply(lambda x: [int(i) for i in x])\n",
        "\n",
        "df['triggers'].explode().unique()"
      ]
    },
    {
      "cell_type": "markdown",
      "metadata": {
        "id": "ufE1ydJf3khd"
      },
      "source": [
        "Splitting the dataset into training, validation, and test sets using the train_test_split function from scikit-learn."
      ]
    },
    {
      "cell_type": "code",
      "execution_count": 51,
      "metadata": {
        "id": "1Dj0SU5vKC6x"
      },
      "outputs": [],
      "source": [
        "import pandas as pd\n",
        "from sklearn.model_selection import train_test_split\n",
        "\n",
        "# Step 1: Split into training and temporary set (temp_set)\n",
        "df_temp, df_test = train_test_split(df, test_size=0.1)\n",
        "\n",
        "# Step 2: Split temp_set into training and validation sets\n",
        "df_train, df_validation = train_test_split(df_temp, test_size=1/9)"
      ]
    },
    {
      "cell_type": "code",
      "execution_count": 52,
      "metadata": {
        "colab": {
          "base_uri": "https://localhost:8080/"
        },
        "id": "C3tcuvy_J6BK",
        "outputId": "a603e8cd-687e-43cb-f7ad-8ccb24596f96"
      },
      "outputs": [
        {
          "output_type": "stream",
          "name": "stdout",
          "text": [
            "{0: 'neutral', 1: 'surprise', 2: 'fear', 3: 'sadness', 4: 'joy', 5: 'disgust', 6: 'anger'}\n"
          ]
        }
      ],
      "source": [
        "emotions = df['emotions'].explode().unique()\n",
        "\n",
        "# Create a mapping from item to number\n",
        "emotion_item_to_number = {item: number for number, item in enumerate(emotions)}\n",
        "\n",
        "# Create a mapping from number to item\n",
        "emotion_number_to_item = {number: item for number, item in enumerate(emotions)}\n",
        "\n",
        "print(emotion_number_to_item)\n",
        "\n",
        "emotion_number_to_one_hot = { 0: [1,0,0,0,0,0,0],\n",
        "                              1: [0,1,0,0,0,0,0],\n",
        "                              2: [0,0,1,0,0,0,0],\n",
        "                              3: [0,0,0,1,0,0,0],\n",
        "                              4: [0,0,0,0,1,0,0],\n",
        "                              5: [0,0,0,0,0,1,0],\n",
        "                              6: [0,0,0,0,0,0,1]}\n",
        "\n",
        "one_hot_to_emotion_number = lambda one_hot : np.where(one_hot)[0]"
      ]
    },
    {
      "cell_type": "markdown",
      "metadata": {
        "id": "b7D_jAmJHdWS"
      },
      "source": [
        "### making data extenders for utterances, emotions and triggers"
      ]
    },
    {
      "cell_type": "code",
      "execution_count": 53,
      "metadata": {
        "id": "IBl-4V0OVT08"
      },
      "outputs": [],
      "source": [
        "def dataExtender_utt(df):\n",
        "  rows = []\n",
        "  for i1 in range(df.shape[0]):\n",
        "    for i2, _ in enumerate(df.iloc[i1]['speakers']):\n",
        "      new_row = pd.DataFrame({'speakers': [df.iloc[i1]['speakers'][i2]],\n",
        "                          'utterances': [df.iloc[i1]['utterances'][i2]],\n",
        "                          })\n",
        "      rows.append(new_row)\n",
        "  return pd.concat(rows, ignore_index=True).drop_duplicates()"
      ]
    },
    {
      "cell_type": "code",
      "execution_count": 54,
      "metadata": {
        "id": "dKcQO2HDJ57q"
      },
      "outputs": [],
      "source": [
        "def dataExtender_emo(df):\n",
        "    rows = []\n",
        "    for i1 in range(df.shape[0]):\n",
        "        for i2, _ in enumerate(df.iloc[i1]['speakers']):\n",
        "            new_row = pd.DataFrame({'speakers': [df.iloc[i1]['speakers'][i2]],\n",
        "                                    'emotions': [df.iloc[i1]['emotions'][i2]],\n",
        "                                    'utterances': [df.iloc[i1]['utterances'][i2]],\n",
        "                                    })\n",
        "            rows.append(new_row)\n",
        "    return pd.concat(rows, ignore_index=True).drop_duplicates()"
      ]
    },
    {
      "cell_type": "code",
      "execution_count": 55,
      "metadata": {
        "id": "RRXYQ0OrQycK"
      },
      "outputs": [],
      "source": [
        "def dataExtender_tri(df):\n",
        "  rows = []\n",
        "  for i1 in range(df.shape[0]):\n",
        "    for i2, _ in enumerate(df.iloc[i1]['speakers']):\n",
        "      new_row = pd.DataFrame({'speakers': [df.iloc[i1]['speakers'][i2]],\n",
        "                          'utterances': [df.iloc[i1]['utterances'][i2]],\n",
        "                          'triggers': [df.iloc[i1]['triggers'][i2]]\n",
        "                          })\n",
        "      rows.append(new_row)\n",
        "  return pd.concat(rows, ignore_index=True).drop_duplicates()"
      ]
    },
    {
      "cell_type": "code",
      "execution_count": 56,
      "metadata": {
        "id": "jQO5SXeyQ6aB"
      },
      "outputs": [],
      "source": [
        "def dataExtender_emo_tri(df):\n",
        "  rows = []\n",
        "  for i1 in range(df.shape[0]):\n",
        "    for i2, _ in enumerate(df.iloc[i1]['speakers']):\n",
        "      new_row = pd.DataFrame({'speakers': [df.iloc[i1]['speakers'][i2]],\n",
        "                          'emotions': [df.iloc[i1]['emotions'][i2]],\n",
        "                          'utterances': [df.iloc[i1]['utterances'][i2]],\n",
        "                          'triggers': [df.iloc[i1]['triggers'][i2]]\n",
        "                          })\n",
        "      rows.append(new_row)\n",
        "  return pd.concat(rows, ignore_index=True).drop_duplicates()"
      ]
    },
    {
      "cell_type": "code",
      "execution_count": 57,
      "metadata": {
        "id": "w_EXMwtHVe6r"
      },
      "outputs": [],
      "source": [
        "df_train_utt = dataExtender_utt(df_train)"
      ]
    },
    {
      "cell_type": "markdown",
      "metadata": {
        "collapsed": false,
        "id": "FIdx37kvNi3f"
      },
      "source": [
        "**We have to drop the duplicates before splitting the data. Otherwise, we drop the duplicates in each set, but we still have same rows between the different sets**"
      ]
    },
    {
      "cell_type": "code",
      "execution_count": 58,
      "metadata": {
        "id": "1Yg4p7GzJ55V"
      },
      "outputs": [],
      "source": [
        "df_emo = dataExtender_emo(df)\n",
        "\n",
        "df_temp, df_test_emo = train_test_split(df_emo, test_size=0.1)\n",
        "df_train_emo, df_validation_emo = train_test_split(df_temp, test_size=1/9)"
      ]
    },
    {
      "cell_type": "code",
      "execution_count": 59,
      "metadata": {
        "colab": {
          "base_uri": "https://localhost:8080/",
          "height": 423
        },
        "id": "mmybssAiLdcv",
        "outputId": "f362065b-a105-4b99-9bdf-7fc9b4ecaf22"
      },
      "outputs": [
        {
          "output_type": "execute_result",
          "data": {
            "text/plain": [
              "       speakers  emotions                                         utterances\n",
              "3568     Rachel   neutral  Well, that shouldn't be a problem. I mean I wo...\n",
              "25731  Chandler   sadness  Umm ma’am, do you have a minute?  I kind of ha...\n",
              "32688      Ross  surprise                                   Are you jealous?\n",
              "26514    Janice   sadness  Good-bye Monica , I wish you a lifetime of hap...\n",
              "31948    Rachel     anger         Yeah, but he waited until the last minute!\n",
              "...         ...       ...                                                ...\n",
              "31975     Danny   neutral                   Do-do you, do you have brothers?\n",
              "20599      Joey  surprise  Like you wouldn't believe.  Wow! This is a gre...\n",
              "34317      Joey   neutral                        Sweepin'. Why? Turn you on?\n",
              "23167    Rachel      fear                    No don't! Go back to repeating!\n",
              "5772       Ross     anger             I do not always have to beokay, okay.\n",
              "\n",
              "[6664 rows x 3 columns]"
            ],
            "text/html": [
              "\n",
              "  <div id=\"df-dabaa73d-be05-4cf1-b3d6-2d8e85d60558\" class=\"colab-df-container\">\n",
              "    <div>\n",
              "<style scoped>\n",
              "    .dataframe tbody tr th:only-of-type {\n",
              "        vertical-align: middle;\n",
              "    }\n",
              "\n",
              "    .dataframe tbody tr th {\n",
              "        vertical-align: top;\n",
              "    }\n",
              "\n",
              "    .dataframe thead th {\n",
              "        text-align: right;\n",
              "    }\n",
              "</style>\n",
              "<table border=\"1\" class=\"dataframe\">\n",
              "  <thead>\n",
              "    <tr style=\"text-align: right;\">\n",
              "      <th></th>\n",
              "      <th>speakers</th>\n",
              "      <th>emotions</th>\n",
              "      <th>utterances</th>\n",
              "    </tr>\n",
              "  </thead>\n",
              "  <tbody>\n",
              "    <tr>\n",
              "      <th>3568</th>\n",
              "      <td>Rachel</td>\n",
              "      <td>neutral</td>\n",
              "      <td>Well, that shouldn't be a problem. I mean I wo...</td>\n",
              "    </tr>\n",
              "    <tr>\n",
              "      <th>25731</th>\n",
              "      <td>Chandler</td>\n",
              "      <td>sadness</td>\n",
              "      <td>Umm ma’am, do you have a minute?  I kind of ha...</td>\n",
              "    </tr>\n",
              "    <tr>\n",
              "      <th>32688</th>\n",
              "      <td>Ross</td>\n",
              "      <td>surprise</td>\n",
              "      <td>Are you jealous?</td>\n",
              "    </tr>\n",
              "    <tr>\n",
              "      <th>26514</th>\n",
              "      <td>Janice</td>\n",
              "      <td>sadness</td>\n",
              "      <td>Good-bye Monica , I wish you a lifetime of hap...</td>\n",
              "    </tr>\n",
              "    <tr>\n",
              "      <th>31948</th>\n",
              "      <td>Rachel</td>\n",
              "      <td>anger</td>\n",
              "      <td>Yeah, but he waited until the last minute!</td>\n",
              "    </tr>\n",
              "    <tr>\n",
              "      <th>...</th>\n",
              "      <td>...</td>\n",
              "      <td>...</td>\n",
              "      <td>...</td>\n",
              "    </tr>\n",
              "    <tr>\n",
              "      <th>31975</th>\n",
              "      <td>Danny</td>\n",
              "      <td>neutral</td>\n",
              "      <td>Do-do you, do you have brothers?</td>\n",
              "    </tr>\n",
              "    <tr>\n",
              "      <th>20599</th>\n",
              "      <td>Joey</td>\n",
              "      <td>surprise</td>\n",
              "      <td>Like you wouldn't believe.  Wow! This is a gre...</td>\n",
              "    </tr>\n",
              "    <tr>\n",
              "      <th>34317</th>\n",
              "      <td>Joey</td>\n",
              "      <td>neutral</td>\n",
              "      <td>Sweepin'. Why? Turn you on?</td>\n",
              "    </tr>\n",
              "    <tr>\n",
              "      <th>23167</th>\n",
              "      <td>Rachel</td>\n",
              "      <td>fear</td>\n",
              "      <td>No don't! Go back to repeating!</td>\n",
              "    </tr>\n",
              "    <tr>\n",
              "      <th>5772</th>\n",
              "      <td>Ross</td>\n",
              "      <td>anger</td>\n",
              "      <td>I do not always have to beokay, okay.</td>\n",
              "    </tr>\n",
              "  </tbody>\n",
              "</table>\n",
              "<p>6664 rows × 3 columns</p>\n",
              "</div>\n",
              "    <div class=\"colab-df-buttons\">\n",
              "\n",
              "  <div class=\"colab-df-container\">\n",
              "    <button class=\"colab-df-convert\" onclick=\"convertToInteractive('df-dabaa73d-be05-4cf1-b3d6-2d8e85d60558')\"\n",
              "            title=\"Convert this dataframe to an interactive table.\"\n",
              "            style=\"display:none;\">\n",
              "\n",
              "  <svg xmlns=\"http://www.w3.org/2000/svg\" height=\"24px\" viewBox=\"0 -960 960 960\">\n",
              "    <path d=\"M120-120v-720h720v720H120Zm60-500h600v-160H180v160Zm220 220h160v-160H400v160Zm0 220h160v-160H400v160ZM180-400h160v-160H180v160Zm440 0h160v-160H620v160ZM180-180h160v-160H180v160Zm440 0h160v-160H620v160Z\"/>\n",
              "  </svg>\n",
              "    </button>\n",
              "\n",
              "  <style>\n",
              "    .colab-df-container {\n",
              "      display:flex;\n",
              "      gap: 12px;\n",
              "    }\n",
              "\n",
              "    .colab-df-convert {\n",
              "      background-color: #E8F0FE;\n",
              "      border: none;\n",
              "      border-radius: 50%;\n",
              "      cursor: pointer;\n",
              "      display: none;\n",
              "      fill: #1967D2;\n",
              "      height: 32px;\n",
              "      padding: 0 0 0 0;\n",
              "      width: 32px;\n",
              "    }\n",
              "\n",
              "    .colab-df-convert:hover {\n",
              "      background-color: #E2EBFA;\n",
              "      box-shadow: 0px 1px 2px rgba(60, 64, 67, 0.3), 0px 1px 3px 1px rgba(60, 64, 67, 0.15);\n",
              "      fill: #174EA6;\n",
              "    }\n",
              "\n",
              "    .colab-df-buttons div {\n",
              "      margin-bottom: 4px;\n",
              "    }\n",
              "\n",
              "    [theme=dark] .colab-df-convert {\n",
              "      background-color: #3B4455;\n",
              "      fill: #D2E3FC;\n",
              "    }\n",
              "\n",
              "    [theme=dark] .colab-df-convert:hover {\n",
              "      background-color: #434B5C;\n",
              "      box-shadow: 0px 1px 3px 1px rgba(0, 0, 0, 0.15);\n",
              "      filter: drop-shadow(0px 1px 2px rgba(0, 0, 0, 0.3));\n",
              "      fill: #FFFFFF;\n",
              "    }\n",
              "  </style>\n",
              "\n",
              "    <script>\n",
              "      const buttonEl =\n",
              "        document.querySelector('#df-dabaa73d-be05-4cf1-b3d6-2d8e85d60558 button.colab-df-convert');\n",
              "      buttonEl.style.display =\n",
              "        google.colab.kernel.accessAllowed ? 'block' : 'none';\n",
              "\n",
              "      async function convertToInteractive(key) {\n",
              "        const element = document.querySelector('#df-dabaa73d-be05-4cf1-b3d6-2d8e85d60558');\n",
              "        const dataTable =\n",
              "          await google.colab.kernel.invokeFunction('convertToInteractive',\n",
              "                                                    [key], {});\n",
              "        if (!dataTable) return;\n",
              "\n",
              "        const docLinkHtml = 'Like what you see? Visit the ' +\n",
              "          '<a target=\"_blank\" href=https://colab.research.google.com/notebooks/data_table.ipynb>data table notebook</a>'\n",
              "          + ' to learn more about interactive tables.';\n",
              "        element.innerHTML = '';\n",
              "        dataTable['output_type'] = 'display_data';\n",
              "        await google.colab.output.renderOutput(dataTable, element);\n",
              "        const docLink = document.createElement('div');\n",
              "        docLink.innerHTML = docLinkHtml;\n",
              "        element.appendChild(docLink);\n",
              "      }\n",
              "    </script>\n",
              "  </div>\n",
              "\n",
              "\n",
              "<div id=\"df-44a8d197-02ab-44cd-8665-051bc6f30b91\">\n",
              "  <button class=\"colab-df-quickchart\" onclick=\"quickchart('df-44a8d197-02ab-44cd-8665-051bc6f30b91')\"\n",
              "            title=\"Suggest charts\"\n",
              "            style=\"display:none;\">\n",
              "\n",
              "<svg xmlns=\"http://www.w3.org/2000/svg\" height=\"24px\"viewBox=\"0 0 24 24\"\n",
              "     width=\"24px\">\n",
              "    <g>\n",
              "        <path d=\"M19 3H5c-1.1 0-2 .9-2 2v14c0 1.1.9 2 2 2h14c1.1 0 2-.9 2-2V5c0-1.1-.9-2-2-2zM9 17H7v-7h2v7zm4 0h-2V7h2v10zm4 0h-2v-4h2v4z\"/>\n",
              "    </g>\n",
              "</svg>\n",
              "  </button>\n",
              "\n",
              "<style>\n",
              "  .colab-df-quickchart {\n",
              "      --bg-color: #E8F0FE;\n",
              "      --fill-color: #1967D2;\n",
              "      --hover-bg-color: #E2EBFA;\n",
              "      --hover-fill-color: #174EA6;\n",
              "      --disabled-fill-color: #AAA;\n",
              "      --disabled-bg-color: #DDD;\n",
              "  }\n",
              "\n",
              "  [theme=dark] .colab-df-quickchart {\n",
              "      --bg-color: #3B4455;\n",
              "      --fill-color: #D2E3FC;\n",
              "      --hover-bg-color: #434B5C;\n",
              "      --hover-fill-color: #FFFFFF;\n",
              "      --disabled-bg-color: #3B4455;\n",
              "      --disabled-fill-color: #666;\n",
              "  }\n",
              "\n",
              "  .colab-df-quickchart {\n",
              "    background-color: var(--bg-color);\n",
              "    border: none;\n",
              "    border-radius: 50%;\n",
              "    cursor: pointer;\n",
              "    display: none;\n",
              "    fill: var(--fill-color);\n",
              "    height: 32px;\n",
              "    padding: 0;\n",
              "    width: 32px;\n",
              "  }\n",
              "\n",
              "  .colab-df-quickchart:hover {\n",
              "    background-color: var(--hover-bg-color);\n",
              "    box-shadow: 0 1px 2px rgba(60, 64, 67, 0.3), 0 1px 3px 1px rgba(60, 64, 67, 0.15);\n",
              "    fill: var(--button-hover-fill-color);\n",
              "  }\n",
              "\n",
              "  .colab-df-quickchart-complete:disabled,\n",
              "  .colab-df-quickchart-complete:disabled:hover {\n",
              "    background-color: var(--disabled-bg-color);\n",
              "    fill: var(--disabled-fill-color);\n",
              "    box-shadow: none;\n",
              "  }\n",
              "\n",
              "  .colab-df-spinner {\n",
              "    border: 2px solid var(--fill-color);\n",
              "    border-color: transparent;\n",
              "    border-bottom-color: var(--fill-color);\n",
              "    animation:\n",
              "      spin 1s steps(1) infinite;\n",
              "  }\n",
              "\n",
              "  @keyframes spin {\n",
              "    0% {\n",
              "      border-color: transparent;\n",
              "      border-bottom-color: var(--fill-color);\n",
              "      border-left-color: var(--fill-color);\n",
              "    }\n",
              "    20% {\n",
              "      border-color: transparent;\n",
              "      border-left-color: var(--fill-color);\n",
              "      border-top-color: var(--fill-color);\n",
              "    }\n",
              "    30% {\n",
              "      border-color: transparent;\n",
              "      border-left-color: var(--fill-color);\n",
              "      border-top-color: var(--fill-color);\n",
              "      border-right-color: var(--fill-color);\n",
              "    }\n",
              "    40% {\n",
              "      border-color: transparent;\n",
              "      border-right-color: var(--fill-color);\n",
              "      border-top-color: var(--fill-color);\n",
              "    }\n",
              "    60% {\n",
              "      border-color: transparent;\n",
              "      border-right-color: var(--fill-color);\n",
              "    }\n",
              "    80% {\n",
              "      border-color: transparent;\n",
              "      border-right-color: var(--fill-color);\n",
              "      border-bottom-color: var(--fill-color);\n",
              "    }\n",
              "    90% {\n",
              "      border-color: transparent;\n",
              "      border-bottom-color: var(--fill-color);\n",
              "    }\n",
              "  }\n",
              "</style>\n",
              "\n",
              "  <script>\n",
              "    async function quickchart(key) {\n",
              "      const quickchartButtonEl =\n",
              "        document.querySelector('#' + key + ' button');\n",
              "      quickchartButtonEl.disabled = true;  // To prevent multiple clicks.\n",
              "      quickchartButtonEl.classList.add('colab-df-spinner');\n",
              "      try {\n",
              "        const charts = await google.colab.kernel.invokeFunction(\n",
              "            'suggestCharts', [key], {});\n",
              "      } catch (error) {\n",
              "        console.error('Error during call to suggestCharts:', error);\n",
              "      }\n",
              "      quickchartButtonEl.classList.remove('colab-df-spinner');\n",
              "      quickchartButtonEl.classList.add('colab-df-quickchart-complete');\n",
              "    }\n",
              "    (() => {\n",
              "      let quickchartButtonEl =\n",
              "        document.querySelector('#df-44a8d197-02ab-44cd-8665-051bc6f30b91 button');\n",
              "      quickchartButtonEl.style.display =\n",
              "        google.colab.kernel.accessAllowed ? 'block' : 'none';\n",
              "    })();\n",
              "  </script>\n",
              "</div>\n",
              "    </div>\n",
              "  </div>\n"
            ],
            "application/vnd.google.colaboratory.intrinsic+json": {
              "type": "dataframe",
              "variable_name": "df_train_emo",
              "summary": "{\n  \"name\": \"df_train_emo\",\n  \"rows\": 6664,\n  \"fields\": [\n    {\n      \"column\": \"speakers\",\n      \"properties\": {\n        \"dtype\": \"category\",\n        \"samples\": [\n          \"Carol\",\n          \"Jim\",\n          \"Mr. Franklin\"\n        ],\n        \"num_unique_values\": 223,\n        \"semantic_type\": \"\",\n        \"description\": \"\"\n      }\n    },\n    {\n      \"column\": \"emotions\",\n      \"properties\": {\n        \"dtype\": \"category\",\n        \"samples\": [\n          \"neutral\",\n          \"sadness\",\n          \"disgust\"\n        ],\n        \"num_unique_values\": 7,\n        \"semantic_type\": \"\",\n        \"description\": \"\"\n      }\n    },\n    {\n      \"column\": \"utterances\",\n      \"properties\": {\n        \"dtype\": \"string\",\n        \"samples\": [\n          \"Now, hold on!\",\n          \"Oh great! What, you brought Joey?\",\n          \"We're actually at the end of one of our research cycles, so we're not looking for applicants right now.\"\n        ],\n        \"num_unique_values\": 6294,\n        \"semantic_type\": \"\",\n        \"description\": \"\"\n      }\n    }\n  ]\n}"
            }
          },
          "metadata": {},
          "execution_count": 59
        }
      ],
      "source": [
        "df_train_emo"
      ]
    },
    {
      "cell_type": "code",
      "execution_count": 60,
      "metadata": {
        "id": "kA5OGGi8RHY-"
      },
      "outputs": [],
      "source": [
        "df_tri = dataExtender_tri(df)\n",
        "\n",
        "df_temp, df_test_tri = train_test_split(df_tri, test_size=0.1)\n",
        "df_train_tri, df_validation_tri = train_test_split(df_temp, test_size=1/9)"
      ]
    },
    {
      "cell_type": "code",
      "execution_count": 61,
      "metadata": {
        "id": "UAXcZxN2RIpe"
      },
      "outputs": [],
      "source": [
        "df_emo_tri = dataExtender_emo_tri(df)\n",
        "\n",
        "df_temp, df_test_emo_tri = train_test_split(df_emo_tri, test_size=0.1)\n",
        "df_train_emo_tri, df_validation_emo_tri = train_test_split(df_temp, test_size=1/9)"
      ]
    },
    {
      "cell_type": "markdown",
      "metadata": {
        "id": "KiqGtwGYQVPG"
      },
      "source": [
        "This observation shows us that emotions are almost independent of the the conversation but triggers are highly dependent on it."
      ]
    },
    {
      "cell_type": "code",
      "execution_count": 62,
      "metadata": {
        "colab": {
          "base_uri": "https://localhost:8080/"
        },
        "id": "WxDeQEVJJ52e",
        "outputId": "91f1e057-59bc-4fd6-b8f3-e1a9c902471e"
      },
      "outputs": [
        {
          "output_type": "stream",
          "name": "stdout",
          "text": [
            "Only utterance: 7866\n",
            "emotion + utterance: 6664\n",
            "trigger + utterance: 9288\n",
            "Emotion + trigger + utterance: 9381\n"
          ]
        }
      ],
      "source": [
        "len_utt = len(df_train_utt)\n",
        "len_emo = len(df_train_emo)\n",
        "len_tri = len(df_train_tri)\n",
        "len_emo_tri = len(df_train_emo_tri)\n",
        "\n",
        "\n",
        "print(f'Only utterance: {len(df_train_utt)}')\n",
        "print(f'emotion + utterance: {len(df_train_emo)}')\n",
        "print(f'trigger + utterance: {len(df_train_tri)}')\n",
        "print(f'Emotion + trigger + utterance: {len(df_train_emo_tri)}')"
      ]
    },
    {
      "cell_type": "markdown",
      "metadata": {
        "collapsed": false,
        "id": "sA9S4WJLNi3f"
      },
      "source": [
        "As it can be seen the percentage of emotions dependent on the context is less than 1%. Unlike triggers which almost have a 27% dependency on the context"
      ]
    },
    {
      "cell_type": "code",
      "execution_count": 63,
      "metadata": {
        "colab": {
          "base_uri": "https://localhost:8080/"
        },
        "id": "S_tfFvAzSyH9",
        "outputId": "461e466d-2268-4351-c154-84b32b52ad5c"
      },
      "outputs": [
        {
          "output_type": "stream",
          "name": "stdout",
          "text": [
            "Percentage of emotions which were dependent on the context: -15.28095601322146\n",
            "Percentage of triggers which were dependent on the context: 18.07780320366133\n"
          ]
        }
      ],
      "source": [
        "print(f'Percentage of emotions which were dependent on the context: {((len_emo-len_utt)/len_utt)*100}')\n",
        "print(f'Percentage of triggers which were dependent on the context: {((len_tri-len_utt)/len_utt)*100}')"
      ]
    },
    {
      "cell_type": "code",
      "execution_count": 64,
      "metadata": {
        "id": "ShYXzwOyU2ex"
      },
      "outputs": [],
      "source": [
        "import random\n",
        "\n",
        "def set_color(number_of_colors):\n",
        "    color_list = []\n",
        "    for i in range(number_of_colors):\n",
        "        color_list.append(\"#\"+''.join([random.choice('0123456789ABCDEF') for j in range(6)]))\n",
        "    return color_list"
      ]
    },
    {
      "cell_type": "code",
      "execution_count": 65,
      "metadata": {
        "colab": {
          "base_uri": "https://localhost:8080/",
          "height": 640
        },
        "id": "H0lfT1DvVCYJ",
        "outputId": "5e8d6e75-e2a6-433a-9fd2-b6bed3a0dad2"
      },
      "outputs": [
        {
          "output_type": "display_data",
          "data": {
            "text/plain": [
              "<Figure size 2000x1000 with 1 Axes>"
            ],
            "image/png": "[encoded data removed]"
          },
          "metadata": {}
        }
      ],
      "source": [
        "plt.figure(figsize=(20,10))\n",
        "plt.bar(emotion_number_to_item.keys(), emotion_number_to_item.values(), color=set_color(len(emotion_number_to_item)))\n",
        "plt.title(\"Emotions distribution\")\n",
        "plt.xlabel(\"Emotions\")\n",
        "plt.ylabel(\"Number of occurences\")\n",
        "plt.show()"
      ]
    },
    {
      "cell_type": "markdown",
      "metadata": {
        "collapsed": false,
        "id": "YFGZki3hNi3f"
      },
      "source": [
        "# Descriptive analysis\n",
        "## Emotions distribution"
      ]
    },
    {
      "cell_type": "markdown",
      "metadata": {
        "id": "K5OrF-qV369S"
      },
      "source": [
        "In this section we computed the occurrences and normalized frequencies of values in a given column. Then, we utilized our function to obtain the occurrences and normalized frequencies of emotions in the training, validation, and test sets, preparing the data for visualization or further analysis."
      ]
    },
    {
      "cell_type": "code",
      "execution_count": 66,
      "metadata": {
        "id": "WpakrmzCNi3f"
      },
      "outputs": [],
      "source": [
        "# Get occurrences for a given column\n",
        "def get_freq_col(data, column):\n",
        "    all_values = []\n",
        "\n",
        "    for dialog in range(data.shape[0]):\n",
        "        for value in data.iloc[dialog][column]:\n",
        "            all_values.append(value)\n",
        "\n",
        "    unique, freq = np.unique(all_values, return_counts=True)\n",
        "    freq = freq/np.sum(freq)\n",
        "\n",
        "    return unique, freq\n",
        "\n",
        "emotions_train, freq_train =  np.unique(df_train_emo.emotions, return_counts=1)\n",
        "emotions_validation, freq_validation =  np.unique(df_validation_emo.emotions, return_counts=1)\n",
        "emotions_test, freq_test =  np.unique(df_test_emo.emotions, return_counts=1)\n",
        "\n",
        "# Normalize to help the visualization\n",
        "freq_train = freq_train/sum(freq_train)\n",
        "freq_validation = freq_validation/sum(freq_validation)\n",
        "freq_test = freq_test/sum(freq_test)\n"
      ]
    },
    {
      "cell_type": "markdown",
      "metadata": {
        "id": "xeprItCf4AmK"
      },
      "source": [
        "Here, we have a bar chart showing the frequency distribution of emotions across the training, validation, and test datasets"
      ]
    },
    {
      "cell_type": "code",
      "execution_count": 67,
      "metadata": {
        "colab": {
          "base_uri": "https://localhost:8080/",
          "height": 452
        },
        "id": "oii0jQ44Ni3g",
        "outputId": "c4f08d28-46ca-4a4c-8626-cda2c1bfd556"
      },
      "outputs": [
        {
          "output_type": "display_data",
          "data": {
            "text/plain": [
              "<Figure size 640x480 with 1 Axes>"
            ],
            "image/png": "[encoded data removed]"
          },
          "metadata": {}
        }
      ],
      "source": [
        "N = len(emotions_train)\n",
        "ind = np.arange(N)\n",
        "width = 0.25\n",
        "\n",
        "bar1 = plt.bar(ind, freq_train, width, color = 'r')\n",
        "bar2 = plt.bar(ind+width, freq_validation, width, color='g')\n",
        "bar3 = plt.bar(ind+width*2, freq_test, width, color = 'b')\n",
        "\n",
        "plt.xlabel(\"\")\n",
        "plt.ylabel('Frequency')\n",
        "plt.title(\"Emotions frequency\")\n",
        "\n",
        "plt.xticks(ind+width, emotions_train)\n",
        "plt.legend( (bar1, bar2, bar3), ('Training', 'Validation', 'Test') )\n",
        "plt.show()"
      ]
    },
    {
      "cell_type": "markdown",
      "metadata": {
        "collapsed": false,
        "id": "4aSkRlmONi3g"
      },
      "source": [
        "We can see that the different sets have same emotion's distribution. Moreover, the neutral emotion is clearly predominant and the digust and fear emotions are less present in our data.\n",
        "\n",
        "## Triggers distribution\n",
        "\n",
        "### Proportion of zeros in each set"
      ]
    },
    {
      "cell_type": "code",
      "execution_count": 68,
      "metadata": {
        "colab": {
          "base_uri": "https://localhost:8080/"
        },
        "id": "3iZodsHPNi3g",
        "outputId": "dbd5b72d-c073-4176-9e2a-421ffad41aa9"
      },
      "outputs": [
        {
          "output_type": "stream",
          "name": "stdout",
          "text": [
            "Proportion of triggers equal to zeros:\n",
            "--> Training 0.843\n",
            "--> Validation 0.834\n",
            "--> Test 0.827\n"
          ]
        }
      ],
      "source": [
        "triggers_train, freq_train =  get_freq_col(df_train, \"triggers\")\n",
        "triggers_validation, freq_validation =  get_freq_col(df_validation, \"triggers\")\n",
        "triggers_test, freq_test =  get_freq_col(df_test, \"triggers\")\n",
        "\n",
        "print(\"Proportion of triggers equal to zeros:\")\n",
        "print(f\"--> Training {freq_train[0]:.3}\")\n",
        "print(f\"--> Validation {freq_validation[0]:.3}\")\n",
        "print(f\"--> Test {freq_test[0]:.3}\")"
      ]
    },
    {
      "cell_type": "markdown",
      "metadata": {
        "collapsed": false,
        "id": "9d2ZJ8b5Ni3g"
      },
      "source": [
        "The different seems to have the same triggers distribution. We can also observe that most of the utterances are not triggers (+- 85%)"
      ]
    },
    {
      "cell_type": "markdown",
      "metadata": {
        "collapsed": false,
        "id": "mc_h_fIeNi3g"
      },
      "source": [
        "### Distance between the target and the triggers\n",
        "Let's look at the distance between the utterances that caused the emotions flip and the target utterance, which is the last utterance.\n",
        "\n",
        "For example, a distance of 1 means that the before last utterance , is a trigger for the emotion flip, i.e. the before last utterance cause the emotion flip. A distance of 0 means that the last utterance cause the emotion flip"
      ]
    },
    {
      "cell_type": "code",
      "execution_count": 69,
      "metadata": {
        "id": "vyG-QZHLNi3g"
      },
      "outputs": [],
      "source": [
        "all_distances = []\n",
        "\n",
        "for dialog in range(df.shape[0]):\n",
        "    all_trig = df.iloc[dialog][\"triggers\"]\n",
        "    active_trig = np.where(all_trig)[0]\n",
        "    for trig in active_trig:\n",
        "        dist = (len(all_trig)-1) - trig\n",
        "        all_distances.append(dist)\n",
        "\n",
        "trig, counts = np.unique(all_distances, return_counts=True)\n"
      ]
    },
    {
      "cell_type": "code",
      "execution_count": 70,
      "metadata": {
        "colab": {
          "base_uri": "https://localhost:8080/",
          "height": 449
        },
        "id": "HH9oU-Z8Ni3g",
        "outputId": "0dd48bf0-e70e-4d7f-83a6-1820e4c8c4ad"
      },
      "outputs": [
        {
          "output_type": "display_data",
          "data": {
            "text/plain": [
              "<Figure size 640x480 with 1 Axes>"
            ],
            "image/png": "[encoded data removed]"
          },
          "metadata": {}
        }
      ],
      "source": [
        "#Plotting distance of triggers to target\n",
        "plt.bar(trig, counts)\n",
        "plt.xticks(trig, trig)\n",
        "plt.xlabel(\"Distance triggers-target\")\n",
        "plt.ylabel(\"Frequency\")\n",
        "plt.show()"
      ]
    },
    {
      "cell_type": "markdown",
      "metadata": {
        "collapsed": false,
        "id": "SsildjSRNi3g"
      },
      "source": [
        "## Length utterances and dialog"
      ]
    },
    {
      "cell_type": "markdown",
      "metadata": {
        "id": "1i1ZNQ6l4Vxh"
      },
      "source": [
        "In this section,we compute and visualize the distribution of dialog and utterance lengths, providing insights into the data's structure and potential characteristics"
      ]
    },
    {
      "cell_type": "code",
      "execution_count": 71,
      "metadata": {
        "id": "zDIVDkUyNi3g",
        "colab": {
          "base_uri": "https://localhost:8080/"
        },
        "outputId": "8d568844-9409-401d-f3f5-2e32607efcc9"
      },
      "outputs": [
        {
          "output_type": "stream",
          "name": "stderr",
          "text": [
            "Asking to pad to max_length but no maximum length is provided and the model has no predefined maximum length. Default to no padding.\n",
            "Asking to truncate to max_length but no maximum length is provided and the model has no predefined maximum length. Default to no truncation.\n"
          ]
        }
      ],
      "source": [
        "utterances_length = []\n",
        "dialog_length = np.zeros(df.shape[0])\n",
        "\n",
        "for dialog in range(df.shape[0]):\n",
        "    for utterance in df.iloc[dialog][\"utterances\"]:\n",
        "        text_token = tokenizer.encode_plus(\n",
        "                    utterance,\n",
        "                    None,\n",
        "                    add_special_tokens=True,\n",
        "                    truncation=True,\n",
        "                    padding='max_length',\n",
        "                    return_token_type_ids=True\n",
        "                )\n",
        "        length = len(text_token['input_ids'])\n",
        "\n",
        "        utterances_length.append(length)\n",
        "        dialog_length[dialog] += length"
      ]
    },
    {
      "cell_type": "code",
      "execution_count": 72,
      "metadata": {
        "colab": {
          "base_uri": "https://localhost:8080/",
          "height": 452
        },
        "id": "agS4TRbCNi3h",
        "outputId": "ca87f5a0-ab39-4364-8cd2-67aa31e78edc"
      },
      "outputs": [
        {
          "output_type": "display_data",
          "data": {
            "text/plain": [
              "<Figure size 640x480 with 2 Axes>"
            ],
            "image/png": "[encoded data removed]"
          },
          "metadata": {}
        }
      ],
      "source": [
        "#plotting dialog length and utterance length plots\n",
        "ax, fig = plt.subplots(1,2)\n",
        "\n",
        "plt.subplot(1,2,1)\n",
        "plt.boxplot(dialog_length)\n",
        "plt.title(\"Dialog length\")\n",
        "\n",
        "plt.subplot(1,2,2)\n",
        "plt.boxplot(utterances_length)\n",
        "plt.title(\"Utterances length\")\n",
        "plt.show()"
      ]
    },
    {
      "cell_type": "markdown",
      "metadata": {
        "collapsed": false,
        "id": "MvOfLUy4Ni3m"
      },
      "source": [
        "# Baseline Model\n",
        "## Uniform classifier"
      ]
    },
    {
      "cell_type": "markdown",
      "metadata": {
        "id": "0prfAZ4-4bJ0"
      },
      "source": [
        "here,we defined a function that generates random predictions based on the unique values observed in a specified column of a DataFrame. It iterates through each dialog in the test data, collects the true values from the specified column, identifies unique values, and then randomly selects values from these unique values to create predictions. Then it applies this function to two columns, \"emotions\" and \"triggers\", in the test data. It computes and prints classification reports for the \"emotions\" column and computes the accuracy and F1-score for the \"triggers\" column, providing insights into the performance of a baseline model that randomly predicts from observed values in these columns."
      ]
    },
    {
      "cell_type": "code",
      "execution_count": 73,
      "metadata": {
        "id": "zPBuY3-ENi3m"
      },
      "outputs": [],
      "source": [
        "from sklearn.metrics import accuracy_score, f1_score\n",
        "\n",
        "def uniform_predict(column):\n",
        "    true_values= []\n",
        "\n",
        "    for dialog in range(df_test.shape[0]):\n",
        "        for value in df_test.iloc[dialog][column]:\n",
        "            true_values.append(value)\n",
        "\n",
        "    # Get the different possible values\n",
        "    diff_values = np.unique(true_values)\n",
        "\n",
        "    # Draw uniformly one value among all the possible values.\n",
        "    pred = np.random.choice(diff_values, len(true_values))\n",
        "\n",
        "    return true_values, pred"
      ]
    },
    {
      "cell_type": "code",
      "execution_count": 74,
      "metadata": {
        "colab": {
          "base_uri": "https://localhost:8080/"
        },
        "id": "6WL9PjN6Ni3m",
        "outputId": "505d1208-0109-4611-b614-bdcbd11cf876"
      },
      "outputs": [
        {
          "output_type": "stream",
          "name": "stdout",
          "text": [
            "Emotions: Uniform Classifier\n",
            "              precision    recall  f1-score   support\n",
            "\n",
            "       anger       0.11      0.15      0.13       385\n",
            "     disgust       0.02      0.11      0.04       101\n",
            "        fear       0.04      0.17      0.07       122\n",
            "         joy       0.18      0.14      0.16       630\n",
            "     neutral       0.40      0.13      0.20      1480\n",
            "     sadness       0.09      0.16      0.12       275\n",
            "    surprise       0.15      0.15      0.15       483\n",
            "\n",
            "    accuracy                           0.14      3476\n",
            "   macro avg       0.14      0.14      0.12      3476\n",
            "weighted avg       0.24      0.14      0.16      3476\n",
            "\n"
          ]
        }
      ],
      "source": [
        "# Emotions: Uniform Classifier Evaluation\n",
        "emotions_true, emotions_pred = uniform_predict(\"emotions\")\n",
        "print(f\"Emotions: Uniform Classifier\")\n",
        "print(classification_report(emotions_true, emotions_pred,\n",
        "                            #target_names = labels,\n",
        "                            zero_division=1))"
      ]
    },
    {
      "cell_type": "code",
      "execution_count": 75,
      "metadata": {
        "colab": {
          "base_uri": "https://localhost:8080/"
        },
        "id": "fV6d3SHfLIhl",
        "outputId": "1d93d7e0-e93d-4eef-ac89-2688b5981911"
      },
      "outputs": [
        {
          "output_type": "stream",
          "name": "stdout",
          "text": [
            "Triggers:  Uniform Classifier\n",
            "              precision    recall  f1-score   support\n",
            "\n",
            "           0       0.83      0.51      0.63      2873\n",
            "           1       0.18      0.50      0.26       603\n",
            "\n",
            "    accuracy                           0.51      3476\n",
            "   macro avg       0.50      0.51      0.45      3476\n",
            "weighted avg       0.72      0.51      0.57      3476\n",
            "\n",
            "--> Accuracy = 0.507 \n",
            "--> F1-score = 0.446\n"
          ]
        }
      ],
      "source": [
        "# Triggers: Uniform Classifier Evaluation\n",
        "triggers_true, triggers_pred_uniform = uniform_predict(\"triggers\")\n",
        "print(\"Triggers:  Uniform Classifier\")\n",
        "print(classification_report(triggers_true, triggers_pred_uniform, zero_division=0))\n",
        "\n",
        "print(f\"--> Accuracy = {accuracy_score(triggers_true, triggers_pred_uniform):.3} \\n\"\n",
        "      f\"--> F1-score = {f1_score(triggers_true, triggers_pred_uniform, average='macro'):.3}\")"
      ]
    },
    {
      "cell_type": "markdown",
      "metadata": {
        "collapsed": false,
        "id": "Do46z6YMNi3m"
      },
      "source": [
        "## Most-frequent classifier"
      ]
    },
    {
      "cell_type": "markdown",
      "metadata": {
        "id": "LksS8w0_4hM0"
      },
      "source": [
        "On the other hand,we defined a function(majority_predict) that predicts the most frequent category in a specified column of a DataFrame. It iterates through each dialog in the test data, collects the true values from the specified column, identifies the unique values and their frequencies from the training data, and then predicts the most frequent value for all instances in the test data.Then it applies this function to two columns, \"emotions\" and \"triggers\", in the test data. It computes and prints classification reports for the \"emotions\" column and computes the accuracy and F1-score for the \"triggers\" column, providing insights into the performance of a baseline model that predicts the most frequent category in these columns."
      ]
    },
    {
      "cell_type": "code",
      "execution_count": 76,
      "metadata": {
        "id": "1G69GR4uNi3n"
      },
      "outputs": [],
      "source": [
        "# Predict the most frequent category\n",
        "def majority_predict(column):\n",
        "    true_values= []\n",
        "\n",
        "    for dialog in range(df_test.shape[0]):\n",
        "        for value in df_test.iloc[dialog][column]:\n",
        "            true_values.append(value)\n",
        "\n",
        "    # Get the different possible values and the frequency\n",
        "    diff_values, frequency = get_freq_col(df_train, column)\n",
        "\n",
        "    # Always predict the most frequent values\n",
        "    pred = [diff_values[np.argmax(frequency)]] * len(true_values)\n",
        "\n",
        "    return true_values, pred"
      ]
    },
    {
      "cell_type": "code",
      "execution_count": 77,
      "metadata": {
        "colab": {
          "base_uri": "https://localhost:8080/"
        },
        "id": "AcmKsBOyNi3n",
        "outputId": "bde1124a-d793-4f9f-b79d-4428fef16916"
      },
      "outputs": [
        {
          "output_type": "stream",
          "name": "stdout",
          "text": [
            "Emotions : Majority Classifier \n",
            "              precision    recall  f1-score   support\n",
            "\n",
            "       anger       1.00      0.00      0.00       385\n",
            "     disgust       1.00      0.00      0.00       101\n",
            "        fear       1.00      0.00      0.00       122\n",
            "         joy       1.00      0.00      0.00       630\n",
            "     neutral       0.43      1.00      0.60      1480\n",
            "     sadness       1.00      0.00      0.00       275\n",
            "    surprise       1.00      0.00      0.00       483\n",
            "\n",
            "    accuracy                           0.43      3476\n",
            "   macro avg       0.92      0.14      0.09      3476\n",
            "weighted avg       0.76      0.43      0.25      3476\n",
            "\n"
          ]
        }
      ],
      "source": [
        "# Emotions: Majority Classifier Evaluation\n",
        "emotions_true, emotions_pred = majority_predict(\"emotions\")\n",
        "print(f\"Emotions : Majority Classifier \")\n",
        "print(classification_report(emotions_true, emotions_pred,\n",
        "                            #target_names = labels,\n",
        "                            zero_division=1))"
      ]
    },
    {
      "cell_type": "code",
      "execution_count": 78,
      "metadata": {
        "colab": {
          "base_uri": "https://localhost:8080/"
        },
        "id": "rUBrE-DELM-f",
        "outputId": "e8cbdfc6-86bb-40ee-fec1-76ef90e909d1"
      },
      "outputs": [
        {
          "output_type": "stream",
          "name": "stdout",
          "text": [
            "\n",
            "Triggers: Majority Classifier\n",
            "              precision    recall  f1-score   support\n",
            "\n",
            "           0       0.83      1.00      0.91      2873\n",
            "           1       0.00      0.00      0.00       603\n",
            "\n",
            "    accuracy                           0.83      3476\n",
            "   macro avg       0.41      0.50      0.45      3476\n",
            "weighted avg       0.68      0.83      0.75      3476\n",
            "\n",
            "Triggers : \n",
            " --> Accuracy = 0.827 \n",
            " --> F1-score = 0.453\n"
          ]
        }
      ],
      "source": [
        "# Triggers: Majority Classifier Evaluation\n",
        "triggers_true, triggers_pred_majority = majority_predict(\"triggers\")\n",
        "print(\"\\nTriggers: Majority Classifier\")\n",
        "print(classification_report(triggers_true, triggers_pred_majority, zero_division=0))\n",
        "\n",
        "print(f\"Triggers : \\n \"\n",
        "      f\"--> Accuracy = {accuracy_score(triggers_true, triggers_pred_majority):.3} \\n \"\n",
        "      f\"--> F1-score = {f1_score(triggers_true, triggers_pred_majority, average='macro'):.3}\")"
      ]
    },
    {
      "cell_type": "markdown",
      "metadata": {
        "id": "ti7k36cNqbxR"
      },
      "source": [
        "# Emotion Model"
      ]
    },
    {
      "cell_type": "markdown",
      "metadata": {
        "id": "P1kTV68X9Vr-"
      },
      "source": [
        "\n",
        "In our emotion model, we have implemented a specialized BERT model designed to discern the emotion within a single utterance, independent of its surrounding context or adjacent utterances. This decision stemmed from our observation that within the provided dataset, utterances exhibited minimal dependency on contextual information from surrounding utterances. Consequently, our model focuses exclusively on the content and structure of individual utterances to predict the corresponding emotions expressed within them. This approach reflects our adaptation to the characteristics of the dataset and aims to optimize the model's performance by concentrating on the intrinsic features of each utterance in isolation."
      ]
    },
    {
      "cell_type": "code",
      "execution_count": 79,
      "metadata": {
        "id": "MVLTvndjJ5z2"
      },
      "outputs": [],
      "source": [
        "class EmotionDataset(Dataset):\n",
        "\n",
        "    def __init__(self, dataframe, tokenizer, max_len, emotion_item_to_number, emotion_number_to_one_hot):\n",
        "        # Initialize the dataset with necessary parameters and data\n",
        "        self.tokenizer = tokenizer\n",
        "        self.max_len = max_len\n",
        "        self.emotion_item_to_number = emotion_item_to_number\n",
        "        self.emotion_number_to_one_hot = emotion_number_to_one_hot\n",
        "\n",
        "        self.data = dataframe\n",
        "        self.speakers = dataframe.speakers\n",
        "        self.utterances = dataframe.utterances\n",
        "        self.emotions = dataframe.emotions\n",
        "\n",
        "    def __len__(self):\n",
        "        # Define the length of the dataset (number of data samples)\n",
        "        return len(self.data)\n",
        "\n",
        "    def __getitem__(self, index):\n",
        "        # Get a specific data sample at the given index\n",
        "        row = self.data.iloc[index]\n",
        "        speakers = row['speakers']\n",
        "        utterance = row['utterances']\n",
        "        emotion = row['emotions']\n",
        "        target = self.emotion_number_to_one_hot[self.emotion_item_to_number[emotion]]\n",
        "\n",
        "        # Tokenize and preprocess the input data using the tokenizer\n",
        "        inputs = self.tokenizer.encode_plus(\n",
        "            utterance,\n",
        "            None,\n",
        "            add_special_tokens=True,\n",
        "            max_length=self.max_len,\n",
        "            truncation=True,\n",
        "            padding='max_length',\n",
        "            return_token_type_ids=True\n",
        "        )\n",
        "\n",
        "        ids = inputs['input_ids']\n",
        "        mask = inputs['attention_mask']\n",
        "        token_type_ids = inputs[\"token_type_ids\"]\n",
        "\n",
        "        # Return the preprocessed data as tensors\n",
        "        return {\n",
        "            'ids': torch.tensor(ids, dtype=torch.long),\n",
        "            'mask': torch.tensor(mask, dtype=torch.long),\n",
        "            'token_type_ids': torch.tensor(token_type_ids, dtype=torch.long),\n",
        "            'targets': torch.tensor(target, dtype=torch.float),\n",
        "        }"
      ]
    },
    {
      "cell_type": "code",
      "execution_count": 80,
      "metadata": {
        "colab": {
          "base_uri": "https://localhost:8080/"
        },
        "id": "DoFqXZaPJ5t4",
        "outputId": "61e93457-f9cf-4181-f56c-5f143eb5004c"
      },
      "outputs": [
        {
          "output_type": "stream",
          "name": "stdout",
          "text": [
            "Train Dataset: (6664, 3)\n",
            "Validation Dataset: (833, 3)\n",
            "Test Dataset: (834, 3)\n"
          ]
        }
      ],
      "source": [
        "# Creating the dataset and dataloader for the neural network\n",
        "\n",
        "print(\"Train Dataset: {}\".format(df_train_emo.shape))\n",
        "print(\"Validation Dataset: {}\".format(df_validation_emo.shape))\n",
        "print(\"Test Dataset: {}\".format(df_test_emo.shape))\n",
        "\n",
        "# Creating datasets for training, validation, and testing using the EmotionDataset class\n",
        "emo_training_set = EmotionDataset(df_train_emo, tokenizer, MAX_LEN_EMO, emotion_item_to_number, emotion_number_to_one_hot)\n",
        "emo_validation_set = EmotionDataset(df_validation_emo, tokenizer, MAX_LEN_EMO, emotion_item_to_number, emotion_number_to_one_hot)\n",
        "emo_testing_set = EmotionDataset(df_test_emo, tokenizer, MAX_LEN_EMO, emotion_item_to_number, emotion_number_to_one_hot)"
      ]
    },
    {
      "cell_type": "code",
      "execution_count": 81,
      "metadata": {
        "id": "XFkTWRX2jdfZ"
      },
      "outputs": [],
      "source": [
        "# Define parameters for dataloaders\n",
        "train_params = {'batch_size': TRAIN_BATCH_SIZE,\n",
        "                'shuffle': False,\n",
        "                'num_workers': 0\n",
        "                }\n",
        "validation_params = {'batch_size': VALID_BATCH_SIZE,\n",
        "                     'shuffle': True,\n",
        "                     'num_workers': 0\n",
        "                    }\n",
        "test_params = {'batch_size': VALID_BATCH_SIZE,\n",
        "               'shuffle': True,\n",
        "               'num_workers': 0\n",
        "              }\n",
        "\n",
        "# Creating dataloaders for training, validation, and testing\n",
        "training_loader = DataLoader(emo_training_set, **train_params)\n",
        "validation_loader = DataLoader(emo_validation_set, **validation_params)\n",
        "testing_loader = DataLoader(emo_testing_set, **test_params)"
      ]
    },
    {
      "cell_type": "code",
      "execution_count": 82,
      "metadata": {
        "id": "O967subBkW7r"
      },
      "outputs": [],
      "source": [
        "# Creating the customized model, by adding a drop out and a dense layer on top of distil bert to get the final output for the model.\n",
        "import torch.nn.functional as F\n",
        "\n",
        "class BERTClass(torch.nn.Module):\n",
        "    def __init__(self, card_name):\n",
        "        super(BERTClass, self).__init__()\n",
        "        self.transformer = AutoModel.from_pretrained(card_name, return_dict=False)\n",
        "        self.dropout = torch.nn.Dropout(0.3)\n",
        "        if card_name == 'bert-base-uncased' :\n",
        "            self.dense1 = torch.nn.Linear(768, 384)\n",
        "        elif card_name == 'prajjwal1/bert-tiny' :\n",
        "            self.dense1 = torch.nn.Linear(128, 384)\n",
        "        self.dense2 = torch.nn.Linear(384, 192)\n",
        "        self.dense3 = torch.nn.Linear(192, 7)\n",
        "\n",
        "    def forward(self, ids, mask, token_type_ids):\n",
        "        _, output = self.transformer(ids, attention_mask = mask, token_type_ids = token_type_ids, return_dict=False)\n",
        "        output = self.dropout(output)\n",
        "        output = self.dense1(output)\n",
        "        output = F.relu(output)\n",
        "        output = self.dense2(output)\n",
        "        output = F.relu(output)\n",
        "        output = self.dense3(output)\n",
        "        return output"
      ]
    },
    {
      "cell_type": "code",
      "execution_count": 83,
      "metadata": {
        "id": "GOiXGA0Uk6lr"
      },
      "outputs": [],
      "source": [
        "# Training function for the model\n",
        "def train(model, dataloader, optimizer,\n",
        "          #scheduler,\n",
        "          LEARNING_RATE, EPOCHS, epoch, criterion):\n",
        "    size = len(dataloader.dataset)\n",
        "    total_items = len(dataloader)\n",
        "    model.train()\n",
        "\n",
        "    for batch, data in tqdm(enumerate(dataloader, 0), total=total_items):\n",
        "        # Get data from the dataloader\n",
        "        ids = data['ids'].to(device, dtype=torch.long)\n",
        "        mask = data['mask'].to(device, dtype=torch.long)\n",
        "        token_type_ids = data['token_type_ids'].to(device, dtype=torch.long)\n",
        "        targets = data['targets'].to(device, dtype=torch.float)\n",
        "\n",
        "        # Zero out gradients\n",
        "        optimizer.zero_grad()\n",
        "\n",
        "        # Forward pass through the model\n",
        "        outputs = model(ids, mask, token_type_ids)\n",
        "\n",
        "        # Calculate loss and backpropagate\n",
        "        loss = criterion(outputs, targets)\n",
        "        loss.backward()\n",
        "        optimizer.step()\n",
        "\n",
        "        #Print loss and progress\n",
        "        #if batch % 5000 == 0:\n",
        "        #    print(f'Epoch: {epoch}, Loss: {loss.item()}')\n",
        "\n",
        "        #if batch % 100 == 0:\n",
        "        #    loss, current = loss.item(), batch * len(ids)\n",
        "        #    print(f\"Train loss: {loss:>7f}  [{current:>5d}/{size:>5d}]\")\n",
        "    #scheduler.step()"
      ]
    },
    {
      "cell_type": "code",
      "execution_count": 84,
      "metadata": {
        "id": "a-4GznxslEdn"
      },
      "outputs": [],
      "source": [
        "# Validation function for the model\n",
        "def validation(epoch, model, dataloader, criterion, frozen=False):\n",
        "    num_batches = len(dataloader)\n",
        "    model.eval()\n",
        "    val_loss = 0\n",
        "    with torch.no_grad():\n",
        "        for batch_idx, data in enumerate(dataloader, 0):\n",
        "            # Get data from the dataloader\n",
        "            ids = data['ids'].to(device, dtype=torch.long)\n",
        "            mask = data['mask'].to(device, dtype=torch.long)\n",
        "            token_type_ids = data['token_type_ids'].to(device, dtype=torch.long)\n",
        "            targets = data['targets'].to(device, dtype=torch.float)\n",
        "\n",
        "            # Forward pass through the model\n",
        "            outputs = model(ids, mask, token_type_ids)\n",
        "\n",
        "            # Calculate validation loss\n",
        "            val_loss += criterion(outputs, targets).item()\n",
        "\n",
        "        val_loss /= num_batches\n",
        "        print(val_loss)\n",
        "\n",
        "        # Check if validation loss improved and save the model\n",
        "        # if val_loss <= val_loss_min_input:\n",
        "        #     if epoch > 0:\n",
        "        #         print('Validation loss decreased ({:.8f} --> {:.8f}). Saving model ...'.format(val_loss_min_input, val_loss))\n",
        "        #     else:\n",
        "        #         print('Saving model ...')\n",
        "            # Save the best model\n",
        "        torch.save(model.state_dict(), f\"emo_model_{'Frozen' if frozen else 'Full'}_{epoch+1}.pth\")\n",
        "        print(\"Saved PyTorch Model State to model.pth\\n\")\n",
        "        #val_loss_min_input = val_loss\n",
        "        # else:\n",
        "        #     print('Validation loss didn\\'t go down -____-')\n",
        "\n",
        "    #return val_loss_min_input\n",
        "    return val_loss"
      ]
    },
    {
      "cell_type": "code",
      "execution_count": 85,
      "metadata": {
        "colab": {
          "base_uri": "https://localhost:8080/"
        },
        "id": "wjCBNrMwVBLL",
        "outputId": "1e551783-0db8-4425-b902-f855a7a36597"
      },
      "outputs": [
        {
          "output_type": "stream",
          "name": "stdout",
          "text": [
            "Class weights: [1.08272034 3.95238557 4.45771735 0.81884841 0.32388166 1.57646357\n",
            " 1.52450002]\n"
          ]
        }
      ],
      "source": [
        "from sklearn.utils import class_weight\n",
        "\n",
        "# Calculate class weights for the training data\n",
        "y_train = []\n",
        "for index, row in df_train_emo.iterrows():\n",
        "    for i in range(len(row[\"utterances\"])):\n",
        "        y_train.append(row[\"emotions\"])\n",
        "class_weights = class_weight.compute_class_weight(class_weight='balanced', classes=np.unique(y_train), y=y_train)\n",
        "print(f\"Class weights: {class_weights}\")\n",
        "\n",
        "# Convert class weights to PyTorch tensor\n",
        "emotion_weights = torch.tensor(class_weights, dtype=torch.float).to(device)\n",
        "\n",
        "# Define the loss criterion using CrossEntropyLoss with class weights\n",
        "criterion = torch.nn.CrossEntropyLoss(\n",
        "    #weight=emotion_weights\n",
        ")"
      ]
    },
    {
      "cell_type": "code",
      "execution_count": 86,
      "metadata": {
        "id": "3ey3b5qEVCsw"
      },
      "outputs": [],
      "source": [
        "# Define a testing function for the model\n",
        "def test(model, dataLoader):\n",
        "    model.eval()\n",
        "    fin_emotion_targets=[]\n",
        "    fin_emotion_outputs=[]\n",
        "    with torch.no_grad():\n",
        "        for batch_idx, data in enumerate(dataLoader, 0):\n",
        "            # Get data from the dataloader\n",
        "            length = len(data[\"ids\"])\n",
        "            ids = data['ids'].to(device, dtype=torch.long)\n",
        "            mask = data['mask'].to(device, dtype=torch.long)\n",
        "            token_type_ids = data['token_type_ids'].to(device, dtype=torch.long)\n",
        "            targets = data['targets'].to(device, dtype=torch.float)\n",
        "\n",
        "            # Forward pass through the model\n",
        "            outputs = model(ids, mask, token_type_ids)\n",
        "            fin_emotion_targets.extend(targets.cpu().detach().numpy().tolist())\n",
        "\n",
        "            # Convert model outputs to one-hot encoded predictions\n",
        "            fin_emotion_outputs.extend([[1 if i == torch.argmax(outputs, dim=1).cpu().detach().numpy()[d] else 0 for i in range(7)] for d in range(length)])\n",
        "    return fin_emotion_outputs, fin_emotion_targets"
      ]
    },
    {
      "cell_type": "markdown",
      "metadata": {
        "id": "hO7sgfHcVDxZ"
      },
      "source": [
        "### Freezed Model"
      ]
    },
    {
      "cell_type": "markdown",
      "metadata": {
        "id": "o1a2AuPf_ERL"
      },
      "source": [
        "We are supposed to implement our model in two different ways.First we implemented it with freezed model and then we implemented the full model."
      ]
    },
    {
      "cell_type": "code",
      "execution_count": 87,
      "metadata": {
        "colab": {
          "base_uri": "https://localhost:8080/"
        },
        "id": "qjrz13tSVH37",
        "outputId": "326373e3-be95-4352-fa93-2b4d1815015b"
      },
      "outputs": [
        {
          "output_type": "execute_result",
          "data": {
            "text/plain": [
              "BERTClass(\n",
              "  (transformer): BertModel(\n",
              "    (embeddings): BertEmbeddings(\n",
              "      (word_embeddings): Embedding(30522, 128, padding_idx=0)\n",
              "      (position_embeddings): Embedding(512, 128)\n",
              "      (token_type_embeddings): Embedding(2, 128)\n",
              "      (LayerNorm): LayerNorm((128,), eps=1e-12, elementwise_affine=True)\n",
              "      (dropout): Dropout(p=0.1, inplace=False)\n",
              "    )\n",
              "    (encoder): BertEncoder(\n",
              "      (layer): ModuleList(\n",
              "        (0-1): 2 x BertLayer(\n",
              "          (attention): BertAttention(\n",
              "            (self): BertSelfAttention(\n",
              "              (query): Linear(in_features=128, out_features=128, bias=True)\n",
              "              (key): Linear(in_features=128, out_features=128, bias=True)\n",
              "              (value): Linear(in_features=128, out_features=128, bias=True)\n",
              "              (dropout): Dropout(p=0.1, inplace=False)\n",
              "            )\n",
              "            (output): BertSelfOutput(\n",
              "              (dense): Linear(in_features=128, out_features=128, bias=True)\n",
              "              (LayerNorm): LayerNorm((128,), eps=1e-12, elementwise_affine=True)\n",
              "              (dropout): Dropout(p=0.1, inplace=False)\n",
              "            )\n",
              "          )\n",
              "          (intermediate): BertIntermediate(\n",
              "            (dense): Linear(in_features=128, out_features=512, bias=True)\n",
              "            (intermediate_act_fn): GELUActivation()\n",
              "          )\n",
              "          (output): BertOutput(\n",
              "            (dense): Linear(in_features=512, out_features=128, bias=True)\n",
              "            (LayerNorm): LayerNorm((128,), eps=1e-12, elementwise_affine=True)\n",
              "            (dropout): Dropout(p=0.1, inplace=False)\n",
              "          )\n",
              "        )\n",
              "      )\n",
              "    )\n",
              "    (pooler): BertPooler(\n",
              "      (dense): Linear(in_features=128, out_features=128, bias=True)\n",
              "      (activation): Tanh()\n",
              "    )\n",
              "  )\n",
              "  (dropout): Dropout(p=0.3, inplace=False)\n",
              "  (dense1): Linear(in_features=128, out_features=384, bias=True)\n",
              "  (dense2): Linear(in_features=384, out_features=192, bias=True)\n",
              "  (dense3): Linear(in_features=192, out_features=7, bias=True)\n",
              ")"
            ]
          },
          "metadata": {},
          "execution_count": 87
        }
      ],
      "source": [
        "emo_model_frozen = BERTClass(card_name)\n",
        "emo_model_frozen.to(device)"
      ]
    },
    {
      "cell_type": "code",
      "execution_count": 88,
      "metadata": {
        "id": "JWCjhGxwVKPv"
      },
      "outputs": [],
      "source": [
        "# Freeze the BERT weigths\n",
        "for param in emo_model_frozen.transformer.parameters():\n",
        "    param.requires_grad = False"
      ]
    },
    {
      "cell_type": "code",
      "execution_count": 89,
      "metadata": {
        "id": "mELrr9YdVLhl"
      },
      "outputs": [],
      "source": [
        "# Calculate the total number of training steps\n",
        "total_steps = len(training_loader) * EMO_EPOCHS\n",
        "\n",
        "# Define the optimizer (AdamW) and learning rate scheduler\n",
        "optimizer = torch.optim.AdamW(params=emo_model_frozen.parameters(), lr=LEARNING_RATE)\n",
        "#scheduler = get_linear_schedule_with_warmup(optimizer, num_warmup_steps=int(0.1 * total_steps), num_training_steps=total_steps)"
      ]
    },
    {
      "cell_type": "code",
      "execution_count": 90,
      "metadata": {
        "colab": {
          "base_uri": "https://localhost:8080/"
        },
        "id": "Tj_9eyFyVNIG",
        "outputId": "357e0f54-bfe5-4125-bf67-87af4275ace1"
      },
      "outputs": [
        {
          "output_type": "stream",
          "name": "stdout",
          "text": [
            "Epoch no 1/5\n"
          ]
        },
        {
          "output_type": "stream",
          "name": "stderr",
          "text": [
            "100%|██████████| 6664/6664 [00:29<00:00, 226.12it/s]\n"
          ]
        },
        {
          "output_type": "stream",
          "name": "stdout",
          "text": [
            "1.5392225303140437\n",
            "Saved PyTorch Model State to model.pth\n",
            "\n",
            "Epoch no 2/5\n"
          ]
        },
        {
          "output_type": "stream",
          "name": "stderr",
          "text": [
            "100%|██████████| 6664/6664 [00:28<00:00, 234.69it/s]\n"
          ]
        },
        {
          "output_type": "stream",
          "name": "stdout",
          "text": [
            "1.500745201812071\n",
            "Saved PyTorch Model State to model.pth\n",
            "\n",
            "Epoch no 3/5\n"
          ]
        },
        {
          "output_type": "stream",
          "name": "stderr",
          "text": [
            "100%|██████████| 6664/6664 [00:29<00:00, 226.00it/s]\n"
          ]
        },
        {
          "output_type": "stream",
          "name": "stdout",
          "text": [
            "1.4774348171962266\n",
            "Saved PyTorch Model State to model.pth\n",
            "\n",
            "Epoch no 4/5\n"
          ]
        },
        {
          "output_type": "stream",
          "name": "stderr",
          "text": [
            "100%|██████████| 6664/6664 [00:28<00:00, 233.19it/s]\n"
          ]
        },
        {
          "output_type": "stream",
          "name": "stdout",
          "text": [
            "1.4567326980263962\n",
            "Saved PyTorch Model State to model.pth\n",
            "\n",
            "Epoch no 5/5\n"
          ]
        },
        {
          "output_type": "stream",
          "name": "stderr",
          "text": [
            "100%|██████████| 6664/6664 [00:28<00:00, 232.57it/s]\n"
          ]
        },
        {
          "output_type": "stream",
          "name": "stdout",
          "text": [
            "1.4473297590611218\n",
            "Saved PyTorch Model State to model.pth\n",
            "\n"
          ]
        }
      ],
      "source": [
        "# Initialize a list to store validation loss during training with frozen layers\n",
        "freezed_emo_val_loss = []\n",
        "\n",
        "# Initialize a variable to track the minimum validation loss\n",
        "val_loss_min = np.Inf\n",
        "\n",
        "# Training loop for the model with frozen layers\n",
        "for epoch in range(EMO_EPOCHS):\n",
        "  print(f\"Epoch no {epoch+1}/{EMO_EPOCHS}\")\n",
        "  train(emo_model_frozen,\n",
        "        training_loader,\n",
        "        optimizer,\n",
        "        #scheduler,\n",
        "        LEARNING_RATE,\n",
        "        EMO_EPOCHS,\n",
        "        epoch,\n",
        "        criterion)\n",
        "\n",
        "  # Update the minimum validation loss\n",
        "  val_loss_min = validation(epoch,\n",
        "                            #val_loss_min,\n",
        "                            emo_model_frozen,\n",
        "                            validation_loader,\n",
        "                            criterion,\n",
        "                            frozen=True\n",
        "                            )\n",
        "\n",
        "  # Append the current minimum validation loss to the list\n",
        "  freezed_emo_val_loss.append(val_loss_min)"
      ]
    },
    {
      "cell_type": "code",
      "execution_count": 91,
      "metadata": {
        "id": "7f2CyCgMVPC3"
      },
      "outputs": [],
      "source": [
        "# Test the trained model and calculate emotion outputs and targets\n",
        "emotion_outputs, emotion_targets = test(emo_model_frozen, testing_loader)"
      ]
    },
    {
      "cell_type": "code",
      "execution_count": 92,
      "metadata": {
        "colab": {
          "base_uri": "https://localhost:8080/"
        },
        "id": "haEi9_j7VQC5",
        "outputId": "35a916df-a216-4370-cb73-a6dc4610f8a1"
      },
      "outputs": [
        {
          "output_type": "stream",
          "name": "stdout",
          "text": [
            "              precision    recall  f1-score   support\n",
            "\n",
            "           0       0.50      0.97      0.66       368\n",
            "           1       0.55      0.10      0.17       111\n",
            "           2       1.00      0.00      0.00        29\n",
            "           3       1.00      0.00      0.00        53\n",
            "           4       0.39      0.27      0.32       143\n",
            "           5       1.00      0.00      0.00        24\n",
            "           6       0.00      0.00      0.00       106\n",
            "\n",
            "   micro avg       0.49      0.49      0.49       834\n",
            "   macro avg       0.63      0.19      0.16       834\n",
            "weighted avg       0.49      0.49      0.37       834\n",
            " samples avg       0.49      0.49      0.49       834\n",
            "\n"
          ]
        }
      ],
      "source": [
        "# Print a classification report based on the emotion outputs and targets\n",
        "print(classification_report(emotion_targets, emotion_outputs,\n",
        "                            #target_names = labels,\n",
        "                            zero_division=1))"
      ]
    },
    {
      "cell_type": "markdown",
      "metadata": {
        "id": "d9hixDrRVSOP"
      },
      "source": [
        "### Full Model"
      ]
    },
    {
      "cell_type": "code",
      "execution_count": 93,
      "metadata": {
        "colab": {
          "base_uri": "https://localhost:8080/"
        },
        "id": "_hzbXhGmVV82",
        "outputId": "2883a3b5-0e1f-45ac-b222-01a47e016b5c"
      },
      "outputs": [
        {
          "output_type": "execute_result",
          "data": {
            "text/plain": [
              "BERTClass(\n",
              "  (transformer): BertModel(\n",
              "    (embeddings): BertEmbeddings(\n",
              "      (word_embeddings): Embedding(30522, 128, padding_idx=0)\n",
              "      (position_embeddings): Embedding(512, 128)\n",
              "      (token_type_embeddings): Embedding(2, 128)\n",
              "      (LayerNorm): LayerNorm((128,), eps=1e-12, elementwise_affine=True)\n",
              "      (dropout): Dropout(p=0.1, inplace=False)\n",
              "    )\n",
              "    (encoder): BertEncoder(\n",
              "      (layer): ModuleList(\n",
              "        (0-1): 2 x BertLayer(\n",
              "          (attention): BertAttention(\n",
              "            (self): BertSelfAttention(\n",
              "              (query): Linear(in_features=128, out_features=128, bias=True)\n",
              "              (key): Linear(in_features=128, out_features=128, bias=True)\n",
              "              (value): Linear(in_features=128, out_features=128, bias=True)\n",
              "              (dropout): Dropout(p=0.1, inplace=False)\n",
              "            )\n",
              "            (output): BertSelfOutput(\n",
              "              (dense): Linear(in_features=128, out_features=128, bias=True)\n",
              "              (LayerNorm): LayerNorm((128,), eps=1e-12, elementwise_affine=True)\n",
              "              (dropout): Dropout(p=0.1, inplace=False)\n",
              "            )\n",
              "          )\n",
              "          (intermediate): BertIntermediate(\n",
              "            (dense): Linear(in_features=128, out_features=512, bias=True)\n",
              "            (intermediate_act_fn): GELUActivation()\n",
              "          )\n",
              "          (output): BertOutput(\n",
              "            (dense): Linear(in_features=512, out_features=128, bias=True)\n",
              "            (LayerNorm): LayerNorm((128,), eps=1e-12, elementwise_affine=True)\n",
              "            (dropout): Dropout(p=0.1, inplace=False)\n",
              "          )\n",
              "        )\n",
              "      )\n",
              "    )\n",
              "    (pooler): BertPooler(\n",
              "      (dense): Linear(in_features=128, out_features=128, bias=True)\n",
              "      (activation): Tanh()\n",
              "    )\n",
              "  )\n",
              "  (dropout): Dropout(p=0.3, inplace=False)\n",
              "  (dense1): Linear(in_features=128, out_features=384, bias=True)\n",
              "  (dense2): Linear(in_features=384, out_features=192, bias=True)\n",
              "  (dense3): Linear(in_features=192, out_features=7, bias=True)\n",
              ")"
            ]
          },
          "metadata": {},
          "execution_count": 93
        }
      ],
      "source": [
        "# Initialize a new instance of the model without frozen layers\n",
        "emo_model_full = BERTClass(card_name)\n",
        "emo_model_full.to(device)"
      ]
    },
    {
      "cell_type": "code",
      "execution_count": 94,
      "metadata": {
        "id": "HzfEuBSzVYWf"
      },
      "outputs": [],
      "source": [
        "# Create a new optimizer and scheduler\n",
        "optimizer = torch.optim.AdamW(params=emo_model_full.parameters(), lr=LEARNING_RATE)\n",
        "#scheduler = lr_scheduler.StepLR(optimizer, step_size=3, gamma=0.5)"
      ]
    },
    {
      "cell_type": "code",
      "execution_count": 95,
      "metadata": {
        "colab": {
          "base_uri": "https://localhost:8080/"
        },
        "id": "p7_Er6p8VY37",
        "outputId": "93c30c89-d93b-4452-ebbf-7ecd74c364b5"
      },
      "outputs": [
        {
          "output_type": "stream",
          "name": "stdout",
          "text": [
            "Epoch no 1/5\n"
          ]
        },
        {
          "output_type": "stream",
          "name": "stderr",
          "text": [
            "100%|██████████| 6664/6664 [00:55<00:00, 119.61it/s]\n"
          ]
        },
        {
          "output_type": "stream",
          "name": "stdout",
          "text": [
            "1.364200331440636\n",
            "Saved PyTorch Model State to model.pth\n",
            "\n",
            "Epoch no 2/5\n"
          ]
        },
        {
          "output_type": "stream",
          "name": "stderr",
          "text": [
            "100%|██████████| 6664/6664 [00:56<00:00, 118.81it/s]\n"
          ]
        },
        {
          "output_type": "stream",
          "name": "stdout",
          "text": [
            "1.298036300567161\n",
            "Saved PyTorch Model State to model.pth\n",
            "\n",
            "Epoch no 3/5\n"
          ]
        },
        {
          "output_type": "stream",
          "name": "stderr",
          "text": [
            "100%|██████████| 6664/6664 [00:56<00:00, 117.04it/s]\n"
          ]
        },
        {
          "output_type": "stream",
          "name": "stdout",
          "text": [
            "1.2608876002936804\n",
            "Saved PyTorch Model State to model.pth\n",
            "\n",
            "Epoch no 4/5\n"
          ]
        },
        {
          "output_type": "stream",
          "name": "stderr",
          "text": [
            "100%|██████████| 6664/6664 [00:56<00:00, 118.46it/s]\n"
          ]
        },
        {
          "output_type": "stream",
          "name": "stdout",
          "text": [
            "1.2529608073318992\n",
            "Saved PyTorch Model State to model.pth\n",
            "\n",
            "Epoch no 5/5\n"
          ]
        },
        {
          "output_type": "stream",
          "name": "stderr",
          "text": [
            "100%|██████████| 6664/6664 [00:56<00:00, 118.30it/s]\n"
          ]
        },
        {
          "output_type": "stream",
          "name": "stdout",
          "text": [
            "1.2431637554251704\n",
            "Saved PyTorch Model State to model.pth\n",
            "\n"
          ]
        }
      ],
      "source": [
        "# Initialize a list to store validation loss during training without frozen layers\n",
        "emo_val_loss = []\n",
        "\n",
        "# Training loop for the model without frozen layers\n",
        "for epoch in range(EMO_EPOCHS):\n",
        "    print(f\"Epoch no {epoch+1}/{EMO_EPOCHS}\")\n",
        "    train(emo_model_full,\n",
        "          training_loader,\n",
        "          optimizer,\n",
        "          #scheduler,\n",
        "          LEARNING_RATE,\n",
        "          EMO_EPOCHS,\n",
        "          epoch,\n",
        "          criterion)\n",
        "\n",
        "    # Update the minimum validation loss\n",
        "    val_loss = validation(epoch,\n",
        "                          emo_model_full,\n",
        "                          validation_loader,\n",
        "                          criterion)\n",
        "\n",
        "    # Append the current minimum validation loss to the list\n",
        "    emo_val_loss.append(val_loss)"
      ]
    },
    {
      "cell_type": "code",
      "execution_count": 96,
      "metadata": {
        "colab": {
          "base_uri": "https://localhost:8080/"
        },
        "id": "p2eBsMtNWiip",
        "outputId": "6b13b529-952b-4855-c399-1e8c801450ff"
      },
      "outputs": [
        {
          "output_type": "stream",
          "name": "stdout",
          "text": [
            "              precision    recall  f1-score   support\n",
            "\n",
            "           0       0.66      0.79      0.72       368\n",
            "           1       0.54      0.49      0.51       111\n",
            "           2       1.00      0.00      0.00        29\n",
            "           3       0.23      0.09      0.13        53\n",
            "           4       0.42      0.57      0.48       143\n",
            "           5       1.00      0.00      0.00        24\n",
            "           6       0.32      0.22      0.26       106\n",
            "\n",
            "   micro avg       0.55      0.55      0.55       834\n",
            "   macro avg       0.59      0.31      0.30       834\n",
            "weighted avg       0.55      0.55      0.51       834\n",
            " samples avg       0.55      0.55      0.55       834\n",
            "\n"
          ]
        }
      ],
      "source": [
        "# emo_model_full.load_state_dict(torch.load('emo_model_Full_10.pth'))\n",
        "# emo_model_full = emo_model_full.to(device)\n",
        "\n",
        "# Test the trained model and calculate emotion outputs and targets\n",
        "emotion_outputs, emotion_targets = test(emo_model_full, testing_loader)\n",
        "# Print a classification report based on the emotion outputs and targets\n",
        "print(classification_report(emotion_targets, emotion_outputs,\n",
        "                            #target_names = labels,\n",
        "                            zero_division=1))"
      ]
    },
    {
      "cell_type": "code",
      "execution_count": 97,
      "metadata": {
        "id": "zoNS5JooL55L"
      },
      "outputs": [],
      "source": [
        "def sequence_test(model, dataLoader):\n",
        "    model.eval()\n",
        "    fin_emotion_targets=[]\n",
        "    fin_emotion_outputs=[]\n",
        "    with torch.no_grad():\n",
        "        for batch_idx, data in enumerate(dataLoader, 0):\n",
        "            # Get data from the dataloader\n",
        "            length = len(data[\"ids\"])\n",
        "            ids = data['ids'].to(device, dtype=torch.long)\n",
        "            mask = data['mask'].to(device, dtype=torch.long)\n",
        "            token_type_ids = data['token_type_ids'].to(device, dtype=torch.long)\n",
        "            targets = data['targets'].to(device, dtype=torch.float)\n",
        "\n",
        "            one_sequence_fin_emotion_targets = []\n",
        "            one_sequence_fin_emotion_outputs = []\n",
        "            for i in range(length):\n",
        "              # Forward pass through the model\n",
        "              outputs = model(ids, mask, token_type_ids)\n",
        "              one_sequence_fin_emotion_targets.extend(targets.cpu().detach().numpy().tolist())\n",
        "\n",
        "              # Convert model outputs to one-hot encoded predictions\n",
        "              one_sequence_fin_emotion_outputs.extend([[1 if i == torch.argmax(outputs, dim=1).cpu().detach().numpy()[d] else 0 for i in range(7)] for d in range(length)])\n",
        "\n",
        "            fin_emotion_targets.extend(one_sequence_fin_emotion_targets)\n",
        "            fin_emotion_outputs.extend(one_sequence_fin_emotion_outputs)\n",
        "\n",
        "    return fin_emotion_outputs, fin_emotion_targets"
      ]
    },
    {
      "cell_type": "code",
      "execution_count": 98,
      "metadata": {
        "id": "YHJvYbMqVZ7H"
      },
      "outputs": [],
      "source": [
        "# Test the trained model and calculate emotion outputs and targets\n",
        "emotion_outputs, emotion_targets = test(emo_model_full, testing_loader)"
      ]
    },
    {
      "cell_type": "code",
      "execution_count": 99,
      "metadata": {
        "colab": {
          "base_uri": "https://localhost:8080/"
        },
        "id": "ZjWmz9BqVbjo",
        "outputId": "4659c318-b2f2-4a2e-f8bd-c57a8b4944f6"
      },
      "outputs": [
        {
          "output_type": "stream",
          "name": "stdout",
          "text": [
            "              precision    recall  f1-score   support\n",
            "\n",
            "           0       0.66      0.79      0.72       368\n",
            "           1       0.54      0.49      0.51       111\n",
            "           2       1.00      0.00      0.00        29\n",
            "           3       0.23      0.09      0.13        53\n",
            "           4       0.42      0.57      0.48       143\n",
            "           5       1.00      0.00      0.00        24\n",
            "           6       0.32      0.22      0.26       106\n",
            "\n",
            "   micro avg       0.55      0.55      0.55       834\n",
            "   macro avg       0.59      0.31      0.30       834\n",
            "weighted avg       0.55      0.55      0.51       834\n",
            " samples avg       0.55      0.55      0.55       834\n",
            "\n"
          ]
        }
      ],
      "source": [
        "# Print a classification report based on the emotion outputs and targets\n",
        "print(classification_report(emotion_targets, emotion_outputs,\n",
        "                            #target_names = labels,\n",
        "                            zero_division=1))"
      ]
    },
    {
      "cell_type": "code",
      "execution_count": 100,
      "metadata": {
        "colab": {
          "base_uri": "https://localhost:8080/",
          "height": 472
        },
        "id": "bLB1INJFVduq",
        "outputId": "9450e2dc-9c67-49de-de41-9deab8113db6"
      },
      "outputs": [
        {
          "output_type": "display_data",
          "data": {
            "text/plain": [
              "<Figure size 640x480 with 1 Axes>"
            ],
            "image/png": "[encoded data removed]"
          },
          "metadata": {}
        }
      ],
      "source": [
        "# Plot validation loss for both the frozen and full models\n",
        "plt.plot(freezed_emo_val_loss, color=\"orange\", label=\"Freezed model\")\n",
        "plt.plot(emo_val_loss, color=\"b\", label=\"Full model\")\n",
        "plt.ylabel(\"Validation_loss\")\n",
        "plt.xlabel(\"Epochs\")\n",
        "plt.title(\"Loss validation of the emotions models\")\n",
        "plt.legend()\n",
        "plt.show()"
      ]
    },
    {
      "cell_type": "markdown",
      "metadata": {
        "id": "eOkGtTR4QHNB"
      },
      "source": [
        "### Testing the f1 metric functions:"
      ]
    },
    {
      "cell_type": "code",
      "execution_count": 101,
      "metadata": {
        "colab": {
          "base_uri": "https://localhost:8080/"
        },
        "id": "7OKMOdSYUjf1",
        "outputId": "0c6a3758-fedc-49cf-f81c-b53423832826"
      },
      "outputs": [
        {
          "output_type": "stream",
          "name": "stdout",
          "text": [
            "Sequence F1 Score: 0.7356115107913669\n",
            "Unrolled Sequence F1 Score: 0.735611510791367\n"
          ]
        }
      ],
      "source": [
        "# Define a function to compute the unrolled sequence F1 score\n",
        "def compute_unrolled_sequence_f1(true_labels, pred_labels):\n",
        "    # Concatenate true and predicted labels to calculate F1 score\n",
        "    unrolled_true = np.concatenate([np.array(dialogue) for dialogue in true_labels])\n",
        "    unrolled_pred = np.concatenate([np.array(dialogue) for dialogue in pred_labels])\n",
        "    return f1_score(unrolled_true, unrolled_pred, average='macro')\n",
        "\n",
        "# Define a function to compute the sequence F1 score\n",
        "def compute_sequence_f1(true_labels, pred_labels):\n",
        "    # Calculate F1 scores for individual dialogues and average them\n",
        "    f1_scores = []\n",
        "    for dialogue_true, dialogue_pred in zip(true_labels, pred_labels):\n",
        "        f1 = f1_score(dialogue_true, dialogue_pred, average='macro')\n",
        "        f1_scores.append(f1)\n",
        "    return np.mean(f1_scores)\n",
        "\n",
        "# Compute sequence F1 and unrolled sequence F1 scores\n",
        "sequence_f1 = compute_sequence_f1(emotion_targets, emotion_outputs)\n",
        "unrolled_sequence_f1 = compute_unrolled_sequence_f1(emotion_targets, emotion_outputs)\n",
        "\n",
        "# Print the computed F1 scores\n",
        "print(f\"Sequence F1 Score: {sequence_f1}\")\n",
        "print(f\"Unrolled Sequence F1 Score: {unrolled_sequence_f1}\")"
      ]
    },
    {
      "cell_type": "markdown",
      "metadata": {
        "id": "hhK_Ibykqfnm"
      },
      "source": [
        "# Trigger Model"
      ]
    },
    {
      "cell_type": "markdown",
      "metadata": {
        "id": "RBO7j1Zh_YTu"
      },
      "source": [
        "\n",
        "In this phase, we have developed a dedicated BERT model tailored specifically for identifying triggers within conversations. Unlike the emotion recognition task where the context of surrounding utterances is disregarded, trigger detection requires a broader understanding of the conversation flow. To achieve this, we employ a process that involves concatenating the emotions derived from our specialized emotion BERT model with the entirety of the conversation.\n",
        "\n",
        "The key distinction lies in our approach to trigger detection, wherein we capitalize on the cumulative emotional context of the conversation. We concatenate the identified emotions with the complete conversation and iteratively evaluate each utterance within the context of the entire dialogue. This iterative process involves looping through the conversation as many times as there are utterances, augmenting the text with the previously identified emotional triggers.\n",
        "\n",
        "By amalgamating the emotional cues with the conversation's text iteratively, our model gains a more comprehensive understanding of the emotional dynamics at play within the dialogue. This method enables the model to discern whether each utterance serves as a trigger, thereby enhancing the accuracy and robustness of our trigger detection mechanism."
      ]
    },
    {
      "cell_type": "code",
      "execution_count": 11,
      "metadata": {
        "id": "V5g-9zOptoBs"
      },
      "outputs": [],
      "source": [
        "# Function to expand the dataframe by splitting multi-speaker dialogues\n",
        "def dataExtender(df):\n",
        "  rows = []\n",
        "  for i1 in range(df.shape[0]):\n",
        "    for i2, _ in enumerate(df.iloc[i1]['speakers']):\n",
        "      new_row = pd.DataFrame({'speakers': [df.iloc[i1]['speakers']],\n",
        "                          'emotions': [df.iloc[i1]['emotions']],\n",
        "                          'utterances': [df.iloc[i1]['utterances']],\n",
        "                          'triggers': [df.iloc[i1]['triggers'][:i2+1]],\n",
        "                          'id': i1})\n",
        "      rows.append(new_row)\n",
        "  return pd.concat(rows, ignore_index=True)"
      ]
    },
    {
      "cell_type": "code",
      "execution_count": 12,
      "metadata": {
        "id": "vyB6zmnSviPS"
      },
      "outputs": [],
      "source": [
        "# Expand the training, validation, and test dataframes\n",
        "tri_df_train = dataExtender(df_train)\n",
        "tri_df_validation = dataExtender(df_validation)\n",
        "tri_df_test = dataExtender(df_test)"
      ]
    },
    {
      "cell_type": "code",
      "execution_count": 13,
      "metadata": {
        "id": "DFRLgGvbtDAE"
      },
      "outputs": [],
      "source": [
        "# Define the TriggerDataset class for the expanded data\n",
        "class TriggerDataset(Dataset):\n",
        "\n",
        "    def __init__(self, dataframe, tokenizer, max_len, emotion_item_to_number, emotion_number_to_one_hot):\n",
        "        # Initialize the dataset with necessary parameters and data\n",
        "        self.tokenizer = tokenizer\n",
        "        self.max_len = max_len\n",
        "        self.emotion_item_to_number = emotion_item_to_number\n",
        "        self.emotion_number_to_one_hot = emotion_number_to_one_hot\n",
        "\n",
        "        self.data = dataframe\n",
        "        self.speakers = dataframe.speakers\n",
        "        self.utterances = dataframe.utterances\n",
        "        self.emotions = dataframe.emotions\n",
        "        self.triggers = dataframe.triggers\n",
        "\n",
        "    def __len__(self):\n",
        "        # Define the length of the dataset (number of data samples)\n",
        "        return len(self.data)\n",
        "\n",
        "    def __getitem__(self, index):\n",
        "        # Get a specific data sample at the given index\n",
        "        row = self.data.iloc[index]\n",
        "        speakers = row['speakers']\n",
        "        utterances = row['utterances']\n",
        "        emotions = row['emotions']\n",
        "        triggers = row['triggers']\n",
        "        target = triggers[-1]\n",
        "\n",
        "        # # Construct the text input by concatenating speakers, utterances, emotions, and triggers\n",
        "        # text = ''\n",
        "        # for i, d in enumerate(speakers):\n",
        "        #     text = text + f\"[{d}]:{utterances[i]}\"\n",
        "\n",
        "        # text = text + ' emotions: '\n",
        "\n",
        "        # for i in range(len(emotions)):\n",
        "        #     text = text + f'{emotions[i]},'\n",
        "\n",
        "        # text = text + ' triggers: '\n",
        "\n",
        "        # for i in range(len(triggers)-1):\n",
        "        #     text = text + f'{triggers[i]} '\n",
        "\n",
        "        text = ''\n",
        "        for i, d in enumerate(speakers):\n",
        "            text = text + f\"[{d}]:{utterances[i]} {'TRIGGER' if i == len(triggers)-1 else ''} \"\n",
        "            #text = text + f\"[{d}]:{utterances[i]} {#emotions[i]} {'TRIGGER' if i == len(triggers)-1 else ''} \"\n",
        "\n",
        "        # print(len(speakers))\n",
        "        # print(triggers)\n",
        "        # print(text)\n",
        "\n",
        "        # Tokenize and preprocess the input data using the tokenizer\n",
        "        inputs = self.tokenizer.encode_plus(\n",
        "            text,\n",
        "            None,\n",
        "            add_special_tokens=True,\n",
        "            max_length=self.max_len,\n",
        "            truncation=True,\n",
        "            padding='max_length',\n",
        "            return_token_type_ids=True\n",
        "        )\n",
        "\n",
        "        ids = inputs['input_ids']\n",
        "        mask = inputs['attention_mask']\n",
        "        token_type_ids = inputs[\"token_type_ids\"]\n",
        "\n",
        "        return {\n",
        "            'ids': torch.tensor(ids, dtype=torch.long),\n",
        "            'mask': torch.tensor(mask, dtype=torch.long),\n",
        "            'token_type_ids': torch.tensor(token_type_ids, dtype=torch.long),\n",
        "            'targets': torch.tensor(target, dtype=torch.float),\n",
        "            #'id': torch.tensor(id, dtype=torch.long)\n",
        "        }"
      ]
    },
    {
      "cell_type": "code",
      "execution_count": 14,
      "metadata": {
        "id": "uQfjelszppmQ"
      },
      "outputs": [],
      "source": [
        "# Create datasets and data loaders for the trigger classification task\n",
        "tri_training_set = TriggerDataset(tri_df_train, tokenizer, MAX_LEN_TRI, emotion_item_to_number, emotion_number_to_one_hot)\n",
        "tri_validation_set = TriggerDataset(tri_df_validation, tokenizer, MAX_LEN_TRI, emotion_item_to_number, emotion_number_to_one_hot)\n",
        "tri_testing_set = TriggerDataset(tri_df_test, tokenizer, MAX_LEN_TRI, emotion_item_to_number, emotion_number_to_one_hot)"
      ]
    },
    {
      "cell_type": "code",
      "execution_count": 15,
      "metadata": {
        "id": "C0IKedaytCZg"
      },
      "outputs": [],
      "source": [
        "# Define parameters for data loaders\n",
        "train_params = {'batch_size': TRAIN_BATCH_SIZE,\n",
        "                'shuffle': False,\n",
        "                'num_workers': 0\n",
        "                }\n",
        "\n",
        "validation_params = {'batch_size': VALID_BATCH_SIZE,\n",
        "                'shuffle': True,\n",
        "                'num_workers': 0\n",
        "                }\n",
        "\n",
        "test_params = {'batch_size': VALID_BATCH_SIZE,\n",
        "                'shuffle': True,\n",
        "                'num_workers': 0\n",
        "                }\n",
        "\n",
        "# Create data loaders for training, validation, and testing\n",
        "tri_training_loader = DataLoader(tri_training_set, **train_params)\n",
        "tri_validation_loader = DataLoader(tri_validation_set, **validation_params)\n",
        "tri_testing_loader = DataLoader(tri_testing_set, **test_params)"
      ]
    },
    {
      "cell_type": "code",
      "execution_count": 16,
      "metadata": {
        "id": "ZVDd9NuOwj6N"
      },
      "outputs": [],
      "source": [
        "# Creating the customized model, by adding a drop out and a dense layer on top of distil bert to get the final output for the model.\n",
        "import torch.nn.functional as F\n",
        "\n",
        "# Define the BERT-based model for trigger classification\n",
        "class BERTClass(torch.nn.Module):\n",
        "    def __init__(self, card_name):\n",
        "        super(BERTClass, self).__init__()\n",
        "        self.transformer = AutoModel.from_pretrained(card_name, return_dict=False)\n",
        "        self.dropout = torch.nn.Dropout(0.3)\n",
        "        if card_name == 'bert-base-uncased' :\n",
        "            self.dense1 = torch.nn.Linear(768, 384)\n",
        "        elif card_name == 'prajjwal1/bert-tiny' :\n",
        "            self.dense1 = torch.nn.Linear(128, 384)\n",
        "        self.dense2 = torch.nn.Linear(384, 192)\n",
        "        self.dense3 = torch.nn.Linear(192, 1)\n",
        "\n",
        "    def forward(self, ids, mask, token_type_ids):\n",
        "        _, output = self.transformer(ids, attention_mask = mask, token_type_ids = token_type_ids, return_dict=False)\n",
        "        output = self.dropout(output)\n",
        "        output = self.dense1(output)\n",
        "        output = F.relu(output)\n",
        "        output = self.dense2(output)\n",
        "        output = F.relu(output)\n",
        "        output = self.dense3(output)\n",
        "        return output\n"
      ]
    },
    {
      "cell_type": "code",
      "execution_count": 17,
      "metadata": {
        "id": "fB70TV9bVqwl"
      },
      "outputs": [],
      "source": [
        "# Training function for the trigger classification model\n",
        "def train(model, dataloader, optimizer,LEARNING_RATE, EPOCHS, epoch, criterion,\n",
        "          scheduler=False,\n",
        "          ):\n",
        "    size = len(dataloader.dataset)\n",
        "    total_items = len(dataloader)\n",
        "    model.train()\n",
        "\n",
        "    for batch, data in tqdm(enumerate(dataloader, 0), total=total_items):\n",
        "        ids = data['ids'].to(device, dtype=torch.long)\n",
        "        mask = data['mask'].to(device, dtype=torch.long)\n",
        "        token_type_ids = data['token_type_ids'].to(device, dtype=torch.long)\n",
        "        targets = data['targets'].to(device, dtype=torch.float)\n",
        "\n",
        "        # Zero out gradients\n",
        "        optimizer.zero_grad()\n",
        "\n",
        "        outputs = model(ids, mask, token_type_ids)\n",
        "\n",
        "        # Compute the loss and backpropagate\n",
        "        loss = criterion(outputs.squeeze(dim=1), targets)\n",
        "        loss.backward()\n",
        "        optimizer.step()\n",
        "        if scheduler:\n",
        "          scheduler.step()\n",
        "\n",
        "        # if batch % 5000 == 0:\n",
        "        #     print(f'Epoch: {epoch}, Loss:  {loss.item()}')\n",
        "        #     print()\n",
        "\n",
        "        # if batch % 100 == 0:\n",
        "        #     loss, current = loss.item(), batch * len(ids)\n",
        "        #     print(f\"Train loss: {loss:>7f}  [{current:>5d}/{size:>5d}]\")"
      ]
    },
    {
      "cell_type": "code",
      "execution_count": 18,
      "metadata": {
        "id": "UddGUnKmVwyR"
      },
      "outputs": [],
      "source": [
        "# Validation function for trigger classification\n",
        "def validation(epoch, val_loss_min_input, model, dataloader, criterion, frozen=False):\n",
        "    # Calculate validation loss and check for improvement\n",
        "    num_batches = len(dataloader)\n",
        "    model.eval()\n",
        "    val_loss = 0\n",
        "    with torch.no_grad():\n",
        "        for batch_idx, data in enumerate(dataloader, 0):\n",
        "            # Extract data from the dataloader\n",
        "            ids = data['ids'].to(device, dtype=torch.long)\n",
        "            mask = data['mask'].to(device, dtype=torch.long)\n",
        "            token_type_ids = data['token_type_ids'].to(device, dtype=torch.long)\n",
        "            targets = data['targets'].to(device, dtype=torch.float)\n",
        "            outputs = model(ids, mask, token_type_ids)\n",
        "            val_loss += criterion(outputs.squeeze(dim=1), targets).item()\n",
        "\n",
        "        val_loss /= num_batches\n",
        "        print(val_loss)\n",
        "        print(f\"\\nValidation loss: {val_loss:>8f}.\")\n",
        "\n",
        "        # Save the model if validation loss has decreased\n",
        "        if val_loss <= val_loss_min_input:\n",
        "            if epoch > 0:\n",
        "                print('Validation loss decreased ({:.8f} --> {:.8f}).  Saving model ...'.format(val_loss_min_input, val_loss))\n",
        "            else:\n",
        "                print('Saving model ...')\n",
        "            # Save the best model\n",
        "            torch.save(model.state_dict(), f\"tri_model_{'Frozen' if frozen else 'Full'}_{epoch+1}.pth\")\n",
        "            print(\"Saved PyTorch Model State to model.pth\\n\")\n",
        "            val_loss_min_input = val_loss\n",
        "        else:\n",
        "            print('Validation loss didn\\'t go down -____-')\n",
        "\n",
        "    return val_loss_min_input"
      ]
    },
    {
      "cell_type": "code",
      "execution_count": 19,
      "metadata": {
        "id": "InjWicaZVyyD"
      },
      "outputs": [],
      "source": [
        "tri_df_train['last_item'] = tri_df_train['triggers'].apply(lambda x: x[-1])\n",
        "\n",
        "# Calculate class weights for trigger classification\n",
        "y_train_trigger_tensor = torch.LongTensor(tri_df_train['last_item'].values)\n",
        "unique_triggers = torch.unique(y_train_trigger_tensor).numpy()\n",
        "trigger_weights = compute_class_weight('balanced', classes=unique_triggers, y=y_train_trigger_tensor.numpy())\n",
        "trigger_weights = torch.FloatTensor(trigger_weights).detach().to(device)\n",
        "\n",
        "# Define the criterion for trigger classification\n",
        "criterion = torch.nn.BCEWithLogitsLoss(\n",
        "    pos_weight=(trigger_weights[1]/trigger_weights[0]).detach()\n",
        "    )"
      ]
    },
    {
      "cell_type": "code",
      "execution_count": 20,
      "metadata": {
        "id": "V0H8xeoXV0Hj"
      },
      "outputs": [],
      "source": [
        "# Function to get the threshold for trigger classification\n",
        "def get_threshold(tri_model, dataLoader):\n",
        "    # Evaluate different thresholds and choose the one with the highest F1 score\n",
        "    tri_model.eval()\n",
        "    fin_trigger_targets=[]\n",
        "    fin_trigger_outputs=[]\n",
        "    with torch.no_grad():\n",
        "        for batch_idx, data in enumerate(dataLoader, 0):\n",
        "            length = len(data)\n",
        "            ids = data['ids'].to(device, dtype = torch.long)\n",
        "            mask = data['mask'].to(device, dtype = torch.long)\n",
        "            token_type_ids = data['token_type_ids'].to(device, dtype = torch.long)\n",
        "            targets = data['targets'].to(device, dtype = torch.float)\n",
        "            outputs = tri_model(ids, mask, token_type_ids)\n",
        "            fin_trigger_targets.extend(targets.cpu().detach().numpy().tolist())\n",
        "            fin_trigger_outputs.extend(torch.sigmoid(outputs.squeeze(dim=1)).cpu().detach().numpy().tolist())\n",
        "\n",
        "    results = {}\n",
        "    for tr in np.arange(0.1, 0.9, 0.01):\n",
        "        tr = round(tr, 2)\n",
        "        predictions= np.array(fin_trigger_outputs) >= tr\n",
        "        results[tr] = f1_score(fin_trigger_targets, predictions, average='macro')\n",
        "    return max(results,key=results.get)"
      ]
    },
    {
      "cell_type": "code",
      "execution_count": 21,
      "metadata": {
        "id": "q6Mb83nCV1Ob"
      },
      "outputs": [],
      "source": [
        "# Function to test the trigger classification model\n",
        "def test(model, dataLoader, threshold):\n",
        "    # Evaluate the model on the test data using the selected threshold\n",
        "    model.eval()\n",
        "    fin_trigger_targets=[]\n",
        "    fin_trigger_outputs=[]\n",
        "    with torch.no_grad():\n",
        "        for batch_idx, data in enumerate(dataLoader, 0):\n",
        "            length = len(data[\"ids\"])\n",
        "            ids = data['ids'].to(device, dtype = torch.long)\n",
        "            mask = data['mask'].to(device, dtype = torch.long)\n",
        "            token_type_ids = data['token_type_ids'].to(device, dtype = torch.long)\n",
        "            targets = data['targets'].to(device, dtype = torch.float)\n",
        "\n",
        "            outputs = model(ids, mask, token_type_ids)\n",
        "            fin_trigger_targets.extend(targets.cpu().detach().numpy().tolist())\n",
        "            fin_trigger_outputs.extend(torch.sigmoid(outputs).cpu().detach().numpy().tolist())\n",
        "\n",
        "    return np.array(fin_trigger_outputs >= threshold).astype(int).tolist(), fin_trigger_targets"
      ]
    },
    {
      "cell_type": "code",
      "source": [
        "def metrics_sequence(model, tri_df_test, threshold):\n",
        "  grouped = tri_df_test.groupby('id')\n",
        "\n",
        "  accu = []\n",
        "  micro_f1 = []\n",
        "  macro_f1 = []\n",
        "  binary_f1 = []\n",
        "  f1 = []\n",
        "  for id, group in grouped:\n",
        "    tri_testing_set = TriggerDataset(group, tokenizer, MAX_LEN_TRI, emotion_item_to_number, emotion_number_to_one_hot)\n",
        "    testing_dataloader = DataLoader(tri_testing_set, **test_params)\n",
        "    trigger_outputs, trigger_targets = test(model, testing_dataloader, threshold)\n",
        "    accu.append(metrics.accuracy_score(trigger_targets, trigger_outputs))\n",
        "    micro_f1.append(metrics.f1_score(trigger_targets, trigger_outputs, average='micro', zero_division=1))\n",
        "    macro_f1.append(metrics.f1_score(trigger_targets, trigger_outputs, average='macro', zero_division=1))\n",
        "    binary_f1.append(metrics.f1_score(trigger_targets, trigger_outputs, zero_division=1))\n",
        "    f1.append(metrics.f1_score(trigger_targets, trigger_outputs, average = None))\n",
        "  return sum(accu)/len(accu), sum(micro_f1)/len(micro_f1), sum(macro_f1)/len(macro_f1), sum(binary_f1)/len(binary_f1)"
      ],
      "metadata": {
        "id": "ESm7aCsCjzBW"
      },
      "execution_count": 22,
      "outputs": []
    },
    {
      "cell_type": "markdown",
      "metadata": {
        "id": "r9Yf5ohYV8yW"
      },
      "source": [
        "### Freezed Model"
      ]
    },
    {
      "cell_type": "code",
      "execution_count": 23,
      "metadata": {
        "colab": {
          "base_uri": "https://localhost:8080/",
          "height": 865,
          "referenced_widgets": [
            "7e5674e8e8044513b2f5bcc53dede3ae",
            "3f1581c7ddc844a3a160d55458957468",
            "439384e757014edaa9ebbe537fac458d",
            "03fb5d320419481b82a687b0e9d3d2bd",
            "6b8b4172157b4716bf92e64b35761234",
            "c0bbcb3c719843b99473c36574b601af",
            "b9afdad628a64d5da3280b671a289933",
            "09096b3263434a7db99aff6cee79c7c0",
            "90ff5b62c766441e8f2a577b435a3e37",
            "19f46f7bbab2479fb666efbaed9f7bc1",
            "1af8332fddb64458a56759bb30126ea6"
          ]
        },
        "id": "J6ZV7ZNAV-PN",
        "outputId": "4fe9ba29-d3a3-4d64-f45b-a9ff84c6a66e"
      },
      "outputs": [
        {
          "output_type": "display_data",
          "data": {
            "text/plain": [
              "pytorch_model.bin:   0%|          | 0.00/17.8M [00:00<?, ?B/s]"
            ],
            "application/vnd.jupyter.widget-view+json": {
              "version_major": 2,
              "version_minor": 0,
              "model_id": "7e5674e8e8044513b2f5bcc53dede3ae"
            }
          },
          "metadata": {}
        },
        {
          "output_type": "execute_result",
          "data": {
            "text/plain": [
              "BERTClass(\n",
              "  (transformer): BertModel(\n",
              "    (embeddings): BertEmbeddings(\n",
              "      (word_embeddings): Embedding(30522, 128, padding_idx=0)\n",
              "      (position_embeddings): Embedding(512, 128)\n",
              "      (token_type_embeddings): Embedding(2, 128)\n",
              "      (LayerNorm): LayerNorm((128,), eps=1e-12, elementwise_affine=True)\n",
              "      (dropout): Dropout(p=0.1, inplace=False)\n",
              "    )\n",
              "    (encoder): BertEncoder(\n",
              "      (layer): ModuleList(\n",
              "        (0-1): 2 x BertLayer(\n",
              "          (attention): BertAttention(\n",
              "            (self): BertSelfAttention(\n",
              "              (query): Linear(in_features=128, out_features=128, bias=True)\n",
              "              (key): Linear(in_features=128, out_features=128, bias=True)\n",
              "              (value): Linear(in_features=128, out_features=128, bias=True)\n",
              "              (dropout): Dropout(p=0.1, inplace=False)\n",
              "            )\n",
              "            (output): BertSelfOutput(\n",
              "              (dense): Linear(in_features=128, out_features=128, bias=True)\n",
              "              (LayerNorm): LayerNorm((128,), eps=1e-12, elementwise_affine=True)\n",
              "              (dropout): Dropout(p=0.1, inplace=False)\n",
              "            )\n",
              "          )\n",
              "          (intermediate): BertIntermediate(\n",
              "            (dense): Linear(in_features=128, out_features=512, bias=True)\n",
              "            (intermediate_act_fn): GELUActivation()\n",
              "          )\n",
              "          (output): BertOutput(\n",
              "            (dense): Linear(in_features=512, out_features=128, bias=True)\n",
              "            (LayerNorm): LayerNorm((128,), eps=1e-12, elementwise_affine=True)\n",
              "            (dropout): Dropout(p=0.1, inplace=False)\n",
              "          )\n",
              "        )\n",
              "      )\n",
              "    )\n",
              "    (pooler): BertPooler(\n",
              "      (dense): Linear(in_features=128, out_features=128, bias=True)\n",
              "      (activation): Tanh()\n",
              "    )\n",
              "  )\n",
              "  (dropout): Dropout(p=0.3, inplace=False)\n",
              "  (dense1): Linear(in_features=128, out_features=384, bias=True)\n",
              "  (dense2): Linear(in_features=384, out_features=192, bias=True)\n",
              "  (dense3): Linear(in_features=192, out_features=1, bias=True)\n",
              ")"
            ]
          },
          "metadata": {},
          "execution_count": 23
        }
      ],
      "source": [
        "# Initialize the trigger classification model and move it to the device\n",
        "tri_model_frozen = BERTClass(card_name)\n",
        "tri_model_frozen.to(device)"
      ]
    },
    {
      "cell_type": "code",
      "execution_count": 24,
      "metadata": {
        "id": "g67MtLP5WAqs"
      },
      "outputs": [],
      "source": [
        "# Freeze the BERT weigths\n",
        "for param in tri_model_frozen.transformer.parameters():\n",
        "    param.requires_grad = False"
      ]
    },
    {
      "cell_type": "code",
      "execution_count": 25,
      "metadata": {
        "id": "Lbc7G7RKWBva"
      },
      "outputs": [],
      "source": [
        "# Define training parameters and create optimizer and scheduler\n",
        "total_steps = len(tri_training_loader)*TRI_EPOCHS\n",
        "\n",
        "optimizer = torch.optim.AdamW(params=tri_model_frozen.parameters(), lr=LEARNING_RATE)\n",
        "#scheduler = get_linear_schedule_with_warmup(optimizer, num_warmup_steps=int(0.1 * total_steps), num_training_steps=total_steps)"
      ]
    },
    {
      "cell_type": "code",
      "execution_count": 26,
      "metadata": {
        "colab": {
          "base_uri": "https://localhost:8080/"
        },
        "id": "5VSXYOFjWDFz",
        "outputId": "2d670b68-945e-46c8-f2dd-0e083aa7ec4a"
      },
      "outputs": [
        {
          "output_type": "stream",
          "name": "stderr",
          "text": [
            "100%|██████████| 27754/27754 [02:24<00:00, 192.16it/s]\n"
          ]
        },
        {
          "output_type": "stream",
          "name": "stdout",
          "text": [
            "1.1612906289513976\n",
            "\n",
            "Validation loss: 1.161291.\n",
            "Saving model ...\n",
            "Saved PyTorch Model State to model.pth\n",
            "\n"
          ]
        }
      ],
      "source": [
        "# Initialize variables for tracking validation loss and results\n",
        "val_loss_min = np.Inf\n",
        "freezed_trig_val_loss = []\n",
        "\n",
        "# Training loop for trigger classification\n",
        "for epoch in range(TRI_EPOCHS):\n",
        "  train(tri_model_frozen,\n",
        "        tri_training_loader,\n",
        "        optimizer,\n",
        "        #scheduler,\n",
        "        LEARNING_RATE,\n",
        "        TRI_EPOCHS,\n",
        "        epoch,\n",
        "        criterion)\n",
        "  val_loss_min = validation(epoch,\n",
        "                            val_loss_min,\n",
        "                            tri_model_frozen,\n",
        "                            tri_validation_loader,\n",
        "                            criterion,\n",
        "                            frozen=True\n",
        "                            )\n",
        "  freezed_trig_val_loss.append(val_loss_min)"
      ]
    },
    {
      "cell_type": "code",
      "execution_count": 27,
      "metadata": {
        "id": "070i-IW4WEin"
      },
      "outputs": [],
      "source": [
        "# Determine the threshold for trigger classification\n",
        "threshold =  get_threshold(tri_model_frozen, tri_validation_loader)"
      ]
    },
    {
      "cell_type": "code",
      "execution_count": 28,
      "metadata": {
        "id": "zZEDR-xiWHgq"
      },
      "outputs": [],
      "source": [
        "# Test the trigger classification model and generate results\n",
        "trigger_outputs, trigger_targets = test(tri_model_frozen, tri_testing_loader, threshold)"
      ]
    },
    {
      "cell_type": "code",
      "execution_count": 29,
      "metadata": {
        "colab": {
          "base_uri": "https://localhost:8080/"
        },
        "id": "4w6nbdZkWIrx",
        "outputId": "87b998e8-3bd4-4c93-fafb-8166fd15dbd9"
      },
      "outputs": [
        {
          "output_type": "stream",
          "name": "stdout",
          "text": [
            "              precision    recall  f1-score   support\n",
            "\n",
            "         0.0       0.86      0.83      0.85      3043\n",
            "         1.0       0.25      0.31      0.28       569\n",
            "\n",
            "    accuracy                           0.75      3612\n",
            "   macro avg       0.56      0.57      0.56      3612\n",
            "weighted avg       0.77      0.75      0.76      3612\n",
            "\n"
          ]
        }
      ],
      "source": [
        "# Print classification report for trigger classification\n",
        "print(classification_report(trigger_targets, trigger_outputs,\n",
        "                            #target_names = labels,\n",
        "                            zero_division=1))"
      ]
    },
    {
      "cell_type": "code",
      "source": [
        "accu, micro_f1, macro_f1, binary_f1 = metrics_sequence(tri_model_frozen, tri_df_test, threshold)\n",
        "\n",
        "print(f\"Sequence Scores:\")\n",
        "print(f\"accuracy: {accu}\")\n",
        "print(f\"micro f1: {micro_f1}\")\n",
        "print(f\"macro f1: {macro_f1}\")\n",
        "print(f\"binary f1: {binary_f1}\")"
      ],
      "metadata": {
        "colab": {
          "base_uri": "https://localhost:8080/"
        },
        "id": "wYyupo7Z7oTz",
        "outputId": "80a54af6-6a49-4982-f51f-18105b1a91fe"
      },
      "execution_count": 30,
      "outputs": [
        {
          "output_type": "stream",
          "name": "stdout",
          "text": [
            "Sequence Scores:\n",
            "accuracy: 0.6322291095632052\n",
            "micro f1: 0.6322291095632052\n",
            "macro f1: 0.3775757197747196\n",
            "binary f1: 0.17799104490280965\n"
          ]
        }
      ]
    },
    {
      "cell_type": "markdown",
      "metadata": {
        "id": "yLG6ICUNWPEq"
      },
      "source": [
        "### Full Model"
      ]
    },
    {
      "cell_type": "code",
      "execution_count": 31,
      "metadata": {
        "colab": {
          "base_uri": "https://localhost:8080/"
        },
        "id": "-FWMAUBqWQrv",
        "outputId": "71b3f9ea-f4ee-4d4c-ec3f-4864358d77db"
      },
      "outputs": [
        {
          "output_type": "execute_result",
          "data": {
            "text/plain": [
              "BERTClass(\n",
              "  (transformer): BertModel(\n",
              "    (embeddings): BertEmbeddings(\n",
              "      (word_embeddings): Embedding(30522, 128, padding_idx=0)\n",
              "      (position_embeddings): Embedding(512, 128)\n",
              "      (token_type_embeddings): Embedding(2, 128)\n",
              "      (LayerNorm): LayerNorm((128,), eps=1e-12, elementwise_affine=True)\n",
              "      (dropout): Dropout(p=0.1, inplace=False)\n",
              "    )\n",
              "    (encoder): BertEncoder(\n",
              "      (layer): ModuleList(\n",
              "        (0-1): 2 x BertLayer(\n",
              "          (attention): BertAttention(\n",
              "            (self): BertSelfAttention(\n",
              "              (query): Linear(in_features=128, out_features=128, bias=True)\n",
              "              (key): Linear(in_features=128, out_features=128, bias=True)\n",
              "              (value): Linear(in_features=128, out_features=128, bias=True)\n",
              "              (dropout): Dropout(p=0.1, inplace=False)\n",
              "            )\n",
              "            (output): BertSelfOutput(\n",
              "              (dense): Linear(in_features=128, out_features=128, bias=True)\n",
              "              (LayerNorm): LayerNorm((128,), eps=1e-12, elementwise_affine=True)\n",
              "              (dropout): Dropout(p=0.1, inplace=False)\n",
              "            )\n",
              "          )\n",
              "          (intermediate): BertIntermediate(\n",
              "            (dense): Linear(in_features=128, out_features=512, bias=True)\n",
              "            (intermediate_act_fn): GELUActivation()\n",
              "          )\n",
              "          (output): BertOutput(\n",
              "            (dense): Linear(in_features=512, out_features=128, bias=True)\n",
              "            (LayerNorm): LayerNorm((128,), eps=1e-12, elementwise_affine=True)\n",
              "            (dropout): Dropout(p=0.1, inplace=False)\n",
              "          )\n",
              "        )\n",
              "      )\n",
              "    )\n",
              "    (pooler): BertPooler(\n",
              "      (dense): Linear(in_features=128, out_features=128, bias=True)\n",
              "      (activation): Tanh()\n",
              "    )\n",
              "  )\n",
              "  (dropout): Dropout(p=0.3, inplace=False)\n",
              "  (dense1): Linear(in_features=128, out_features=384, bias=True)\n",
              "  (dense2): Linear(in_features=384, out_features=192, bias=True)\n",
              "  (dense3): Linear(in_features=192, out_features=1, bias=True)\n",
              ")"
            ]
          },
          "metadata": {},
          "execution_count": 31
        }
      ],
      "source": [
        "# Initialize a new emotion model and move it to the device\n",
        "tri_model_full = BERTClass(card_name)\n",
        "tri_model_full.to(device)"
      ]
    },
    {
      "cell_type": "code",
      "execution_count": 32,
      "metadata": {
        "id": "HcxMsK9xWR79"
      },
      "outputs": [],
      "source": [
        "# Define training parameters and create optimizer and scheduler for the emotion model\n",
        "LEARNING_RATE = 3e-05\n",
        "total_steps = len(tri_training_loader)*TRI_EPOCHS\n",
        "optimizer = torch.optim.AdamW(params=tri_model_full.parameters(), lr=LEARNING_RATE)\n",
        "# scheduler = get_linear_schedule_with_warmup(optimizer, num_warmup_steps=int(0.1 * total_steps), num_training_steps=total_steps)"
      ]
    },
    {
      "cell_type": "code",
      "execution_count": 41,
      "metadata": {
        "colab": {
          "base_uri": "https://localhost:8080/"
        },
        "id": "mdIpV2S4WWeH",
        "outputId": "59e6b9e6-db96-458d-c165-819221ebe199"
      },
      "outputs": [
        {
          "output_type": "stream",
          "name": "stderr",
          "text": [
            "100%|██████████| 27754/27754 [04:00<00:00, 115.38it/s]\n"
          ]
        },
        {
          "output_type": "stream",
          "name": "stdout",
          "text": [
            "0.8671552901190588\n",
            "\n",
            "Validation loss: 0.867155.\n",
            "Saving model ...\n",
            "Saved PyTorch Model State to model.pth\n",
            "\n"
          ]
        }
      ],
      "source": [
        "# Initialize variables for tracking validation loss for the trigger model\n",
        "val_loss_min = np.Inf\n",
        "trig_val_loss = []\n",
        "\n",
        "# Training loop for the trigger model\n",
        "for epoch in range(TRI_EPOCHS):\n",
        "  train(tri_model_full,\n",
        "        tri_training_loader,\n",
        "        optimizer,\n",
        "        LEARNING_RATE,\n",
        "        TRI_EPOCHS,\n",
        "        epoch,\n",
        "        criterion,\n",
        "        #scheduler=scheduler\n",
        "        )\n",
        "  val_loss_min = validation(epoch,\n",
        "                            val_loss_min,\n",
        "                            tri_model_full,\n",
        "                            tri_validation_loader,\n",
        "                            criterion,\n",
        "                            #tokenizer\n",
        "                            )\n",
        "  trig_val_loss.append(val_loss_min)"
      ]
    },
    {
      "cell_type": "code",
      "execution_count": 42,
      "metadata": {
        "id": "6LkoK6t9WXoY"
      },
      "outputs": [],
      "source": [
        "# Determine the threshold for trigger classification\n",
        "threshold =  get_threshold(tri_model_full, tri_validation_loader)"
      ]
    },
    {
      "cell_type": "code",
      "source": [
        "# tri_model_full.load_state_dict(torch.load('emo_model_Full_10.pth'))\n",
        "# tri_model_full = emo_model_full.to(device)"
      ],
      "metadata": {
        "id": "V00PYpiZemDR"
      },
      "execution_count": null,
      "outputs": []
    },
    {
      "cell_type": "code",
      "execution_count": 43,
      "metadata": {
        "id": "Z185X9uOWYTN"
      },
      "outputs": [],
      "source": [
        "# Test the trigger classification model and generate results\n",
        "trigger_outputs, trigger_targets = test(tri_model_full, tri_testing_loader, threshold)"
      ]
    },
    {
      "cell_type": "code",
      "execution_count": 44,
      "metadata": {
        "colab": {
          "base_uri": "https://localhost:8080/"
        },
        "id": "ekBJU4b2WaGh",
        "outputId": "1ea692f5-955b-47c6-e27d-25aa5a813f37"
      },
      "outputs": [
        {
          "output_type": "stream",
          "name": "stdout",
          "text": [
            "              precision    recall  f1-score   support\n",
            "\n",
            "         0.0       0.93      0.85      0.89      3043\n",
            "         1.0       0.44      0.65      0.53       569\n",
            "\n",
            "    accuracy                           0.82      3612\n",
            "   macro avg       0.68      0.75      0.71      3612\n",
            "weighted avg       0.85      0.82      0.83      3612\n",
            "\n"
          ]
        }
      ],
      "source": [
        "# Print classification report for trigger classification\n",
        "print(classification_report(trigger_targets, trigger_outputs,\n",
        "                            #target_names = labels,\n",
        "                            zero_division=1))"
      ]
    },
    {
      "cell_type": "code",
      "execution_count": 45,
      "metadata": {
        "colab": {
          "base_uri": "https://localhost:8080/"
        },
        "id": "PF3AyQ4RyzXi",
        "outputId": "0c47c455-d691-4bc4-a9f8-74f91fd1166b"
      },
      "outputs": [
        {
          "output_type": "stream",
          "name": "stdout",
          "text": [
            "Accuracy Score = 0.8153377630121816\n",
            "F1 Score (Micro) = 0.8153377630121816\n",
            "F1 Score (Macro) = 0.7056389019318056\n",
            "F1 Score (Binary) = 0.5259417199715707\n",
            "F1 Score (Binary) = [0.88533608 0.52594172]\n"
          ]
        }
      ],
      "source": [
        "accuracy = metrics.accuracy_score(trigger_targets, trigger_outputs)\n",
        "f1_score_micro = metrics.f1_score(trigger_targets, trigger_outputs, average='micro')\n",
        "f1_score_macro = metrics.f1_score(trigger_targets, trigger_outputs, average='macro')\n",
        "f1_score_binary = metrics.f1_score(trigger_targets, trigger_outputs)\n",
        "f1_score_ = metrics.f1_score(trigger_targets, trigger_outputs, average = None)\n",
        "print(f\"Accuracy Score = {accuracy}\")\n",
        "print(f\"F1 Score (Micro) = {f1_score_micro}\")\n",
        "print(f\"F1 Score (Macro) = {f1_score_macro}\")\n",
        "print(f\"F1 Score (Binary) = {f1_score_binary}\")\n",
        "print(f\"F1 Score (Binary) = {f1_score_}\")"
      ]
    },
    {
      "cell_type": "code",
      "source": [
        "accu, micro_f1, macro_f1, binary_f1 = metrics_sequence(tri_model_full, tri_df_test, threshold)\n",
        "\n",
        "print(f\"Sequence Scores:\")\n",
        "print(f\"accuracy: {accu}\")\n",
        "print(f\"micro f1: {micro_f1}\")\n",
        "print(f\"macro f1: {macro_f1}\")\n",
        "print(f\"binary f1: {binary_f1}\")"
      ],
      "metadata": {
        "colab": {
          "base_uri": "https://localhost:8080/"
        },
        "id": "iKnujtMNmf4Z",
        "outputId": "3230172e-c945-4eac-ddd5-8ef008260ac1"
      },
      "execution_count": 46,
      "outputs": [
        {
          "output_type": "stream",
          "name": "stdout",
          "text": [
            "Sequence Scores:\n",
            "accuracy: 0.7769117411375955\n",
            "micro f1: 0.7769117411375955\n",
            "macro f1: 0.6704258031571605\n",
            "binary f1: 0.512606837606837\n"
          ]
        }
      ]
    },
    {
      "cell_type": "markdown",
      "metadata": {
        "collapsed": false,
        "id": "BdIoFK6xNi3s"
      },
      "source": [
        "# Error Analysis\n",
        "## Emotions"
      ]
    },
    {
      "cell_type": "code",
      "execution_count": 102,
      "metadata": {
        "id": "k1FPNq8VNi3s"
      },
      "outputs": [],
      "source": [
        "emo_pred = emotion_outputs\n",
        "emo_true = emotion_targets"
      ]
    },
    {
      "cell_type": "code",
      "execution_count": 103,
      "metadata": {
        "id": "YCOupFBvNi3s"
      },
      "outputs": [],
      "source": [
        "# One Hot to number\n",
        "emo_pred = np.array([one_hot_to_emotion_number(emo) for emo in emo_pred])\n",
        "emo_true = np.array([one_hot_to_emotion_number(emo) for emo in emo_true])"
      ]
    },
    {
      "cell_type": "markdown",
      "metadata": {
        "collapsed": false,
        "id": "NEe6Zg8sNi3s"
      },
      "source": [
        "### Confusion matrix"
      ]
    },
    {
      "cell_type": "code",
      "execution_count": 104,
      "metadata": {
        "id": "aImAzVvmNi3s",
        "colab": {
          "base_uri": "https://localhost:8080/",
          "height": 564
        },
        "outputId": "5d27cc42-89d5-4dca-dd1c-8a796bc06166"
      },
      "outputs": [
        {
          "output_type": "display_data",
          "data": {
            "text/plain": [
              "<Figure size 600x600 with 1 Axes>"
            ],
            "image/png": "[encoded data removed]"
          },
          "metadata": {}
        }
      ],
      "source": [
        "from sklearn.metrics import ConfusionMatrixDisplay, confusion_matrix\n",
        "def plot_confusion_matrix(y_preds, y_true, labels=None):\n",
        "  cm = confusion_matrix(y_true, y_preds, normalize=\"true\")\n",
        "  fig, ax = plt.subplots(figsize=(6, 6))\n",
        "  disp = ConfusionMatrixDisplay(confusion_matrix=cm, display_labels=labels)\n",
        "  disp.plot(cmap=\"Blues\", values_format=\".2f\", ax=ax, colorbar=False)\n",
        "  plt.title(\"Normalized confusion matrix\")\n",
        "  plt.show()\n",
        "\n",
        "# Plot the confusion matrix for emotion classification\n",
        "plot_confusion_matrix(emo_pred,emo_true, labels=emotion_item_to_number.keys())"
      ]
    },
    {
      "cell_type": "code",
      "execution_count": 105,
      "metadata": {
        "id": "GasktBGSNi3s",
        "colab": {
          "base_uri": "https://localhost:8080/"
        },
        "outputId": "09fbf423-a904-4205-92ec-66736a5c55fd"
      },
      "outputs": [
        {
          "output_type": "execute_result",
          "data": {
            "text/plain": [
              "(array([0, 1, 2, 3, 4, 5, 6]), array([368, 111,  29,  53, 143,  24, 106]))"
            ]
          },
          "metadata": {},
          "execution_count": 105
        }
      ],
      "source": [
        "# Count the unique emotion labels in the true labels\n",
        "np.unique(emo_true, return_counts=True)"
      ]
    },
    {
      "cell_type": "markdown",
      "metadata": {
        "collapsed": false,
        "id": "qJ-lHQrINi3s"
      },
      "source": [
        "### Examples of missclassification"
      ]
    },
    {
      "cell_type": "code",
      "execution_count": 106,
      "metadata": {
        "id": "L_fbnpxWNi3s",
        "colab": {
          "base_uri": "https://localhost:8080/",
          "height": 380
        },
        "outputId": "fdc246da-5d8a-457f-d598-c85c5220be08"
      },
      "outputs": [
        {
          "output_type": "stream",
          "name": "stdout",
          "text": [
            "(569, 4)\n"
          ]
        },
        {
          "output_type": "execute_result",
          "data": {
            "text/plain": [
              "                                              utterances  emotions      pred\n",
              "23068                                    That'll be all.   neutral  surprise\n",
              "5279                      Aww, look at the little thing.  surprise     anger\n",
              "6718                            Oh my God! That's David!  surprise   neutral\n",
              "25031                                            I know!     anger   neutral\n",
              "19126  Well okay but I have two tickets to the ballro...   neutral   sadness\n",
              "34201                             You call that a fight?  surprise     anger\n",
              "12921         What?! What good is that gonna do anybody?     anger   neutral\n",
              "15260                                                 Eh   neutral       joy\n",
              "7276   Yeah, well, it's an important day. I wanna loo...   neutral       joy\n",
              "8430                            I can't figure this out!     anger   neutral"
            ],
            "text/html": [
              "\n",
              "  <div id=\"df-8b2eb732-9b2f-4ae5-bd6f-8a3783f50a09\" class=\"colab-df-container\">\n",
              "    <div>\n",
              "<style scoped>\n",
              "    .dataframe tbody tr th:only-of-type {\n",
              "        vertical-align: middle;\n",
              "    }\n",
              "\n",
              "    .dataframe tbody tr th {\n",
              "        vertical-align: top;\n",
              "    }\n",
              "\n",
              "    .dataframe thead th {\n",
              "        text-align: right;\n",
              "    }\n",
              "</style>\n",
              "<table border=\"1\" class=\"dataframe\">\n",
              "  <thead>\n",
              "    <tr style=\"text-align: right;\">\n",
              "      <th></th>\n",
              "      <th>utterances</th>\n",
              "      <th>emotions</th>\n",
              "      <th>pred</th>\n",
              "    </tr>\n",
              "  </thead>\n",
              "  <tbody>\n",
              "    <tr>\n",
              "      <th>23068</th>\n",
              "      <td>That'll be all.</td>\n",
              "      <td>neutral</td>\n",
              "      <td>surprise</td>\n",
              "    </tr>\n",
              "    <tr>\n",
              "      <th>5279</th>\n",
              "      <td>Aww, look at the little thing.</td>\n",
              "      <td>surprise</td>\n",
              "      <td>anger</td>\n",
              "    </tr>\n",
              "    <tr>\n",
              "      <th>6718</th>\n",
              "      <td>Oh my God! That's David!</td>\n",
              "      <td>surprise</td>\n",
              "      <td>neutral</td>\n",
              "    </tr>\n",
              "    <tr>\n",
              "      <th>25031</th>\n",
              "      <td>I know!</td>\n",
              "      <td>anger</td>\n",
              "      <td>neutral</td>\n",
              "    </tr>\n",
              "    <tr>\n",
              "      <th>19126</th>\n",
              "      <td>Well okay but I have two tickets to the ballro...</td>\n",
              "      <td>neutral</td>\n",
              "      <td>sadness</td>\n",
              "    </tr>\n",
              "    <tr>\n",
              "      <th>34201</th>\n",
              "      <td>You call that a fight?</td>\n",
              "      <td>surprise</td>\n",
              "      <td>anger</td>\n",
              "    </tr>\n",
              "    <tr>\n",
              "      <th>12921</th>\n",
              "      <td>What?! What good is that gonna do anybody?</td>\n",
              "      <td>anger</td>\n",
              "      <td>neutral</td>\n",
              "    </tr>\n",
              "    <tr>\n",
              "      <th>15260</th>\n",
              "      <td>Eh</td>\n",
              "      <td>neutral</td>\n",
              "      <td>joy</td>\n",
              "    </tr>\n",
              "    <tr>\n",
              "      <th>7276</th>\n",
              "      <td>Yeah, well, it's an important day. I wanna loo...</td>\n",
              "      <td>neutral</td>\n",
              "      <td>joy</td>\n",
              "    </tr>\n",
              "    <tr>\n",
              "      <th>8430</th>\n",
              "      <td>I can't figure this out!</td>\n",
              "      <td>anger</td>\n",
              "      <td>neutral</td>\n",
              "    </tr>\n",
              "  </tbody>\n",
              "</table>\n",
              "</div>\n",
              "    <div class=\"colab-df-buttons\">\n",
              "\n",
              "  <div class=\"colab-df-container\">\n",
              "    <button class=\"colab-df-convert\" onclick=\"convertToInteractive('df-8b2eb732-9b2f-4ae5-bd6f-8a3783f50a09')\"\n",
              "            title=\"Convert this dataframe to an interactive table.\"\n",
              "            style=\"display:none;\">\n",
              "\n",
              "  <svg xmlns=\"http://www.w3.org/2000/svg\" height=\"24px\" viewBox=\"0 -960 960 960\">\n",
              "    <path d=\"M120-120v-720h720v720H120Zm60-500h600v-160H180v160Zm220 220h160v-160H400v160Zm0 220h160v-160H400v160ZM180-400h160v-160H180v160Zm440 0h160v-160H620v160ZM180-180h160v-160H180v160Zm440 0h160v-160H620v160Z\"/>\n",
              "  </svg>\n",
              "    </button>\n",
              "\n",
              "  <style>\n",
              "    .colab-df-container {\n",
              "      display:flex;\n",
              "      gap: 12px;\n",
              "    }\n",
              "\n",
              "    .colab-df-convert {\n",
              "      background-color: #E8F0FE;\n",
              "      border: none;\n",
              "      border-radius: 50%;\n",
              "      cursor: pointer;\n",
              "      display: none;\n",
              "      fill: #1967D2;\n",
              "      height: 32px;\n",
              "      padding: 0 0 0 0;\n",
              "      width: 32px;\n",
              "    }\n",
              "\n",
              "    .colab-df-convert:hover {\n",
              "      background-color: #E2EBFA;\n",
              "      box-shadow: 0px 1px 2px rgba(60, 64, 67, 0.3), 0px 1px 3px 1px rgba(60, 64, 67, 0.15);\n",
              "      fill: #174EA6;\n",
              "    }\n",
              "\n",
              "    .colab-df-buttons div {\n",
              "      margin-bottom: 4px;\n",
              "    }\n",
              "\n",
              "    [theme=dark] .colab-df-convert {\n",
              "      background-color: #3B4455;\n",
              "      fill: #D2E3FC;\n",
              "    }\n",
              "\n",
              "    [theme=dark] .colab-df-convert:hover {\n",
              "      background-color: #434B5C;\n",
              "      box-shadow: 0px 1px 3px 1px rgba(0, 0, 0, 0.15);\n",
              "      filter: drop-shadow(0px 1px 2px rgba(0, 0, 0, 0.3));\n",
              "      fill: #FFFFFF;\n",
              "    }\n",
              "  </style>\n",
              "\n",
              "    <script>\n",
              "      const buttonEl =\n",
              "        document.querySelector('#df-8b2eb732-9b2f-4ae5-bd6f-8a3783f50a09 button.colab-df-convert');\n",
              "      buttonEl.style.display =\n",
              "        google.colab.kernel.accessAllowed ? 'block' : 'none';\n",
              "\n",
              "      async function convertToInteractive(key) {\n",
              "        const element = document.querySelector('#df-8b2eb732-9b2f-4ae5-bd6f-8a3783f50a09');\n",
              "        const dataTable =\n",
              "          await google.colab.kernel.invokeFunction('convertToInteractive',\n",
              "                                                    [key], {});\n",
              "        if (!dataTable) return;\n",
              "\n",
              "        const docLinkHtml = 'Like what you see? Visit the ' +\n",
              "          '<a target=\"_blank\" href=https://colab.research.google.com/notebooks/data_table.ipynb>data table notebook</a>'\n",
              "          + ' to learn more about interactive tables.';\n",
              "        element.innerHTML = '';\n",
              "        dataTable['output_type'] = 'display_data';\n",
              "        await google.colab.output.renderOutput(dataTable, element);\n",
              "        const docLink = document.createElement('div');\n",
              "        docLink.innerHTML = docLinkHtml;\n",
              "        element.appendChild(docLink);\n",
              "      }\n",
              "    </script>\n",
              "  </div>\n",
              "\n",
              "\n",
              "<div id=\"df-7537d88e-65ad-4811-865e-a7fa769e6387\">\n",
              "  <button class=\"colab-df-quickchart\" onclick=\"quickchart('df-7537d88e-65ad-4811-865e-a7fa769e6387')\"\n",
              "            title=\"Suggest charts\"\n",
              "            style=\"display:none;\">\n",
              "\n",
              "<svg xmlns=\"http://www.w3.org/2000/svg\" height=\"24px\"viewBox=\"0 0 24 24\"\n",
              "     width=\"24px\">\n",
              "    <g>\n",
              "        <path d=\"M19 3H5c-1.1 0-2 .9-2 2v14c0 1.1.9 2 2 2h14c1.1 0 2-.9 2-2V5c0-1.1-.9-2-2-2zM9 17H7v-7h2v7zm4 0h-2V7h2v10zm4 0h-2v-4h2v4z\"/>\n",
              "    </g>\n",
              "</svg>\n",
              "  </button>\n",
              "\n",
              "<style>\n",
              "  .colab-df-quickchart {\n",
              "      --bg-color: #E8F0FE;\n",
              "      --fill-color: #1967D2;\n",
              "      --hover-bg-color: #E2EBFA;\n",
              "      --hover-fill-color: #174EA6;\n",
              "      --disabled-fill-color: #AAA;\n",
              "      --disabled-bg-color: #DDD;\n",
              "  }\n",
              "\n",
              "  [theme=dark] .colab-df-quickchart {\n",
              "      --bg-color: #3B4455;\n",
              "      --fill-color: #D2E3FC;\n",
              "      --hover-bg-color: #434B5C;\n",
              "      --hover-fill-color: #FFFFFF;\n",
              "      --disabled-bg-color: #3B4455;\n",
              "      --disabled-fill-color: #666;\n",
              "  }\n",
              "\n",
              "  .colab-df-quickchart {\n",
              "    background-color: var(--bg-color);\n",
              "    border: none;\n",
              "    border-radius: 50%;\n",
              "    cursor: pointer;\n",
              "    display: none;\n",
              "    fill: var(--fill-color);\n",
              "    height: 32px;\n",
              "    padding: 0;\n",
              "    width: 32px;\n",
              "  }\n",
              "\n",
              "  .colab-df-quickchart:hover {\n",
              "    background-color: var(--hover-bg-color);\n",
              "    box-shadow: 0 1px 2px rgba(60, 64, 67, 0.3), 0 1px 3px 1px rgba(60, 64, 67, 0.15);\n",
              "    fill: var(--button-hover-fill-color);\n",
              "  }\n",
              "\n",
              "  .colab-df-quickchart-complete:disabled,\n",
              "  .colab-df-quickchart-complete:disabled:hover {\n",
              "    background-color: var(--disabled-bg-color);\n",
              "    fill: var(--disabled-fill-color);\n",
              "    box-shadow: none;\n",
              "  }\n",
              "\n",
              "  .colab-df-spinner {\n",
              "    border: 2px solid var(--fill-color);\n",
              "    border-color: transparent;\n",
              "    border-bottom-color: var(--fill-color);\n",
              "    animation:\n",
              "      spin 1s steps(1) infinite;\n",
              "  }\n",
              "\n",
              "  @keyframes spin {\n",
              "    0% {\n",
              "      border-color: transparent;\n",
              "      border-bottom-color: var(--fill-color);\n",
              "      border-left-color: var(--fill-color);\n",
              "    }\n",
              "    20% {\n",
              "      border-color: transparent;\n",
              "      border-left-color: var(--fill-color);\n",
              "      border-top-color: var(--fill-color);\n",
              "    }\n",
              "    30% {\n",
              "      border-color: transparent;\n",
              "      border-left-color: var(--fill-color);\n",
              "      border-top-color: var(--fill-color);\n",
              "      border-right-color: var(--fill-color);\n",
              "    }\n",
              "    40% {\n",
              "      border-color: transparent;\n",
              "      border-right-color: var(--fill-color);\n",
              "      border-top-color: var(--fill-color);\n",
              "    }\n",
              "    60% {\n",
              "      border-color: transparent;\n",
              "      border-right-color: var(--fill-color);\n",
              "    }\n",
              "    80% {\n",
              "      border-color: transparent;\n",
              "      border-right-color: var(--fill-color);\n",
              "      border-bottom-color: var(--fill-color);\n",
              "    }\n",
              "    90% {\n",
              "      border-color: transparent;\n",
              "      border-bottom-color: var(--fill-color);\n",
              "    }\n",
              "  }\n",
              "</style>\n",
              "\n",
              "  <script>\n",
              "    async function quickchart(key) {\n",
              "      const quickchartButtonEl =\n",
              "        document.querySelector('#' + key + ' button');\n",
              "      quickchartButtonEl.disabled = true;  // To prevent multiple clicks.\n",
              "      quickchartButtonEl.classList.add('colab-df-spinner');\n",
              "      try {\n",
              "        const charts = await google.colab.kernel.invokeFunction(\n",
              "            'suggestCharts', [key], {});\n",
              "      } catch (error) {\n",
              "        console.error('Error during call to suggestCharts:', error);\n",
              "      }\n",
              "      quickchartButtonEl.classList.remove('colab-df-spinner');\n",
              "      quickchartButtonEl.classList.add('colab-df-quickchart-complete');\n",
              "    }\n",
              "    (() => {\n",
              "      let quickchartButtonEl =\n",
              "        document.querySelector('#df-7537d88e-65ad-4811-865e-a7fa769e6387 button');\n",
              "      quickchartButtonEl.style.display =\n",
              "        google.colab.kernel.accessAllowed ? 'block' : 'none';\n",
              "    })();\n",
              "  </script>\n",
              "</div>\n",
              "    </div>\n",
              "  </div>\n"
            ],
            "application/vnd.google.colaboratory.intrinsic+json": {
              "type": "dataframe",
              "summary": "{\n  \"name\": \"df_test_emo[df_test_emo['emotions']!=df_test_emo['pred']][['utterances','emotions','pred']]\",\n  \"rows\": 10,\n  \"fields\": [\n    {\n      \"column\": \"utterances\",\n      \"properties\": {\n        \"dtype\": \"string\",\n        \"samples\": [\n          \"Yeah, well, it's an important day. I wanna look nice. Um, has uh Dr. Franzblau been by?\",\n          \"Aww, look at the little thing.\",\n          \"You call that a fight?\"\n        ],\n        \"num_unique_values\": 10,\n        \"semantic_type\": \"\",\n        \"description\": \"\"\n      }\n    },\n    {\n      \"column\": \"emotions\",\n      \"properties\": {\n        \"dtype\": \"category\",\n        \"samples\": [\n          \"neutral\",\n          \"surprise\",\n          \"anger\"\n        ],\n        \"num_unique_values\": 3,\n        \"semantic_type\": \"\",\n        \"description\": \"\"\n      }\n    },\n    {\n      \"column\": \"pred\",\n      \"properties\": {\n        \"dtype\": \"string\",\n        \"samples\": [\n          \"anger\",\n          \"joy\",\n          \"neutral\"\n        ],\n        \"num_unique_values\": 5,\n        \"semantic_type\": \"\",\n        \"description\": \"\"\n      }\n    }\n  ]\n}"
            }
          },
          "metadata": {},
          "execution_count": 106
        }
      ],
      "source": [
        "# Add predicted emotions to the test dataframe\n",
        "df_test_emo['pred'] = np.array([emotion_number_to_item[emo[0]] for emo in emo_pred])\n",
        "df_test_emo.reset_index(level=0)\n",
        "\n",
        "# Print the number of incorrect predictions and display some of them\n",
        "print(df_test_emo[df_test_emo['emotions']!=df_test_emo['pred']].shape)\n",
        "df_test_emo[df_test_emo['emotions']!=df_test_emo['pred']][['utterances','emotions','pred']].head(10)"
      ]
    },
    {
      "cell_type": "markdown",
      "metadata": {
        "collapsed": false,
        "id": "E05XQKvDNi3s"
      },
      "source": [
        "### Models Comparison\n",
        "See Table 11 of https://arxiv.org/pdf/2103.12360.pdf\n",
        "Just have to copy the table format and replace by values found by classification_report() function"
      ]
    },
    {
      "cell_type": "markdown",
      "metadata": {
        "collapsed": false,
        "id": "U8uzaQF6Ni3t"
      },
      "source": [
        "## Triggers\n",
        "### Confusion matrix"
      ]
    },
    {
      "cell_type": "code",
      "execution_count": 107,
      "metadata": {
        "id": "FDdrGRFBNi3t"
      },
      "outputs": [],
      "source": [
        "trig_pred = np.array(trigger_outputs)\n",
        "trig_true = np.array(trigger_targets)"
      ]
    },
    {
      "cell_type": "code",
      "execution_count": 108,
      "metadata": {
        "id": "gfZ03MalNi3t",
        "colab": {
          "base_uri": "https://localhost:8080/",
          "height": 564
        },
        "outputId": "6f12813c-c8c2-4815-aad7-7fe281062a18"
      },
      "outputs": [
        {
          "output_type": "display_data",
          "data": {
            "text/plain": [
              "<Figure size 600x600 with 1 Axes>"
            ],
            "image/png": "[encoded data removed]"
          },
          "metadata": {}
        }
      ],
      "source": [
        "# Plot the confusion matrix for trigger classification\n",
        "plot_confusion_matrix(trig_pred,trig_true)"
      ]
    }
  ],
  "metadata": {
    "accelerator": "GPU",
    "colab": {
      "gpuType": "T4",
      "provenance": []
    },
    "kernelspec": {
      "display_name": "Python 3",
      "name": "python3"
    },
    "language_info": {
      "name": "python"
    },
    "widgets": {
      "application/vnd.jupyter.widget-state+json": {
        "7e5674e8e8044513b2f5bcc53dede3ae": {
          "model_module": "@jupyter-widgets/controls",
          "model_name": "HBoxModel",
          "model_module_version": "1.5.0",
          "state": {
            "_dom_classes": [],
            "_model_module": "@jupyter-widgets/controls",
            "_model_module_version": "1.5.0",
            "_model_name": "HBoxModel",
            "_view_count": null,
            "_view_module": "@jupyter-widgets/controls",
            "_view_module_version": "1.5.0",
            "_view_name": "HBoxView",
            "box_style": "",
            "children": [
              "IPY_MODEL_3f1581c7ddc844a3a160d55458957468",
              "IPY_MODEL_439384e757014edaa9ebbe537fac458d",
              "IPY_MODEL_03fb5d320419481b82a687b0e9d3d2bd"
            ],
            "layout": "IPY_MODEL_6b8b4172157b4716bf92e64b35761234"
          }
        },
        "3f1581c7ddc844a3a160d55458957468": {
          "model_module": "@jupyter-widgets/controls",
          "model_name": "HTMLModel",
          "model_module_version": "1.5.0",
          "state": {
            "_dom_classes": [],
            "_model_module": "@jupyter-widgets/controls",
            "_model_module_version": "1.5.0",
            "_model_name": "HTMLModel",
            "_view_count": null,
            "_view_module": "@jupyter-widgets/controls",
            "_view_module_version": "1.5.0",
            "_view_name": "HTMLView",
            "description": "",
            "description_tooltip": null,
            "layout": "IPY_MODEL_c0bbcb3c719843b99473c36574b601af",
            "placeholder": "​",
            "style": "IPY_MODEL_b9afdad628a64d5da3280b671a289933",
            "value": "pytorch_model.bin: 100%"
          }
        },
        "439384e757014edaa9ebbe537fac458d": {
          "model_module": "@jupyter-widgets/controls",
          "model_name": "FloatProgressModel",
          "model_module_version": "1.5.0",
          "state": {
            "_dom_classes": [],
            "_model_module": "@jupyter-widgets/controls",
            "_model_module_version": "1.5.0",
            "_model_name": "FloatProgressModel",
            "_view_count": null,
            "_view_module": "@jupyter-widgets/controls",
            "_view_module_version": "1.5.0",
            "_view_name": "ProgressView",
            "bar_style": "success",
            "description": "",
            "description_tooltip": null,
            "layout": "IPY_MODEL_09096b3263434a7db99aff6cee79c7c0",
            "max": 17756393,
            "min": 0,
            "orientation": "horizontal",
            "style": "IPY_MODEL_90ff5b62c766441e8f2a577b435a3e37",
            "value": 17756393
          }
        },
        "03fb5d320419481b82a687b0e9d3d2bd": {
          "model_module": "@jupyter-widgets/controls",
          "model_name": "HTMLModel",
          "model_module_version": "1.5.0",
          "state": {
            "_dom_classes": [],
            "_model_module": "@jupyter-widgets/controls",
            "_model_module_version": "1.5.0",
            "_model_name": "HTMLModel",
            "_view_count": null,
            "_view_module": "@jupyter-widgets/controls",
            "_view_module_version": "1.5.0",
            "_view_name": "HTMLView",
            "description": "",
            "description_tooltip": null,
            "layout": "IPY_MODEL_19f46f7bbab2479fb666efbaed9f7bc1",
            "placeholder": "​",
            "style": "IPY_MODEL_1af8332fddb64458a56759bb30126ea6",
            "value": " 17.8M/17.8M [00:00&lt;00:00, 29.5MB/s]"
          }
        },
        "6b8b4172157b4716bf92e64b35761234": {
          "model_module": "@jupyter-widgets/base",
          "model_name": "LayoutModel",
          "model_module_version": "1.2.0",
          "state": {
            "_model_module": "@jupyter-widgets/base",
            "_model_module_version": "1.2.0",
            "_model_name": "LayoutModel",
            "_view_count": null,
            "_view_module": "@jupyter-widgets/base",
            "_view_module_version": "1.2.0",
            "_view_name": "LayoutView",
            "align_content": null,
            "align_items": null,
            "align_self": null,
            "border": null,
            "bottom": null,
            "display": null,
            "flex": null,
            "flex_flow": null,
            "grid_area": null,
            "grid_auto_columns": null,
            "grid_auto_flow": null,
            "grid_auto_rows": null,
            "grid_column": null,
            "grid_gap": null,
            "grid_row": null,
            "grid_template_areas": null,
            "grid_template_columns": null,
            "grid_template_rows": null,
            "height": null,
            "justify_content": null,
            "justify_items": null,
            "left": null,
            "margin": null,
            "max_height": null,
            "max_width": null,
            "min_height": null,
            "min_width": null,
            "object_fit": null,
            "object_position": null,
            "order": null,
            "overflow": null,
            "overflow_x": null,
            "overflow_y": null,
            "padding": null,
            "right": null,
            "top": null,
            "visibility": null,
            "width": null
          }
        },
        "c0bbcb3c719843b99473c36574b601af": {
          "model_module": "@jupyter-widgets/base",
          "model_name": "LayoutModel",
          "model_module_version": "1.2.0",
          "state": {
            "_model_module": "@jupyter-widgets/base",
            "_model_module_version": "1.2.0",
            "_model_name": "LayoutModel",
            "_view_count": null,
            "_view_module": "@jupyter-widgets/base",
            "_view_module_version": "1.2.0",
            "_view_name": "LayoutView",
            "align_content": null,
            "align_items": null,
            "align_self": null,
            "border": null,
            "bottom": null,
            "display": null,
            "flex": null,
            "flex_flow": null,
            "grid_area": null,
            "grid_auto_columns": null,
            "grid_auto_flow": null,
            "grid_auto_rows": null,
            "grid_column": null,
            "grid_gap": null,
            "grid_row": null,
            "grid_template_areas": null,
            "grid_template_columns": null,
            "grid_template_rows": null,
            "height": null,
            "justify_content": null,
            "justify_items": null,
            "left": null,
            "margin": null,
            "max_height": null,
            "max_width": null,
            "min_height": null,
            "min_width": null,
            "object_fit": null,
            "object_position": null,
            "order": null,
            "overflow": null,
            "overflow_x": null,
            "overflow_y": null,
            "padding": null,
            "right": null,
            "top": null,
            "visibility": null,
            "width": null
          }
        },
        "b9afdad628a64d5da3280b671a289933": {
          "model_module": "@jupyter-widgets/controls",
          "model_name": "DescriptionStyleModel",
          "model_module_version": "1.5.0",
          "state": {
            "_model_module": "@jupyter-widgets/controls",
            "_model_module_version": "1.5.0",
            "_model_name": "DescriptionStyleModel",
            "_view_count": null,
            "_view_module": "@jupyter-widgets/base",
            "_view_module_version": "1.2.0",
            "_view_name": "StyleView",
            "description_width": ""
          }
        },
        "09096b3263434a7db99aff6cee79c7c0": {
          "model_module": "@jupyter-widgets/base",
          "model_name": "LayoutModel",
          "model_module_version": "1.2.0",
          "state": {
            "_model_module": "@jupyter-widgets/base",
            "_model_module_version": "1.2.0",
            "_model_name": "LayoutModel",
            "_view_count": null,
            "_view_module": "@jupyter-widgets/base",
            "_view_module_version": "1.2.0",
            "_view_name": "LayoutView",
            "align_content": null,
            "align_items": null,
            "align_self": null,
            "border": null,
            "bottom": null,
            "display": null,
            "flex": null,
            "flex_flow": null,
            "grid_area": null,
            "grid_auto_columns": null,
            "grid_auto_flow": null,
            "grid_auto_rows": null,
            "grid_column": null,
            "grid_gap": null,
            "grid_row": null,
            "grid_template_areas": null,
            "grid_template_columns": null,
            "grid_template_rows": null,
            "height": null,
            "justify_content": null,
            "justify_items": null,
            "left": null,
            "margin": null,
            "max_height": null,
            "max_width": null,
            "min_height": null,
            "min_width": null,
            "object_fit": null,
            "object_position": null,
            "order": null,
            "overflow": null,
            "overflow_x": null,
            "overflow_y": null,
            "padding": null,
            "right": null,
            "top": null,
            "visibility": null,
            "width": null
          }
        },
        "90ff5b62c766441e8f2a577b435a3e37": {
          "model_module": "@jupyter-widgets/controls",
          "model_name": "ProgressStyleModel",
          "model_module_version": "1.5.0",
          "state": {
            "_model_module": "@jupyter-widgets/controls",
            "_model_module_version": "1.5.0",
            "_model_name": "ProgressStyleModel",
            "_view_count": null,
            "_view_module": "@jupyter-widgets/base",
            "_view_module_version": "1.2.0",
            "_view_name": "StyleView",
            "bar_color": null,
            "description_width": ""
          }
        },
        "19f46f7bbab2479fb666efbaed9f7bc1": {
          "model_module": "@jupyter-widgets/base",
          "model_name": "LayoutModel",
          "model_module_version": "1.2.0",
          "state": {
            "_model_module": "@jupyter-widgets/base",
            "_model_module_version": "1.2.0",
            "_model_name": "LayoutModel",
            "_view_count": null,
            "_view_module": "@jupyter-widgets/base",
            "_view_module_version": "1.2.0",
            "_view_name": "LayoutView",
            "align_content": null,
            "align_items": null,
            "align_self": null,
            "border": null,
            "bottom": null,
            "display": null,
            "flex": null,
            "flex_flow": null,
            "grid_area": null,
            "grid_auto_columns": null,
            "grid_auto_flow": null,
            "grid_auto_rows": null,
            "grid_column": null,
            "grid_gap": null,
            "grid_row": null,
            "grid_template_areas": null,
            "grid_template_columns": null,
            "grid_template_rows": null,
            "height": null,
            "justify_content": null,
            "justify_items": null,
            "left": null,
            "margin": null,
            "max_height": null,
            "max_width": null,
            "min_height": null,
            "min_width": null,
            "object_fit": null,
            "object_position": null,
            "order": null,
            "overflow": null,
            "overflow_x": null,
            "overflow_y": null,
            "padding": null,
            "right": null,
            "top": null,
            "visibility": null,
            "width": null
          }
        },
        "1af8332fddb64458a56759bb30126ea6": {
          "model_module": "@jupyter-widgets/controls",
          "model_name": "DescriptionStyleModel",
          "model_module_version": "1.5.0",
          "state": {
            "_model_module": "@jupyter-widgets/controls",
            "_model_module_version": "1.5.0",
            "_model_name": "DescriptionStyleModel",
            "_view_count": null,
            "_view_module": "@jupyter-widgets/base",
            "_view_module_version": "1.2.0",
            "_view_name": "StyleView",
            "description_width": ""
          }
        }
      }
    }
  },
  "nbformat": 4,
  "nbformat_minor": 0
}